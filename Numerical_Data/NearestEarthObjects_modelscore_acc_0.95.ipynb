{
  "cells": [
    {
      "cell_type": "code",
      "execution_count": null,
      "metadata": {
        "id": "rGwsaLHGhamL"
      },
      "outputs": [],
      "source": [
        "import numpy as np\n",
        "import tensorflow as tf"
      ]
    },
    {
      "cell_type": "code",
      "execution_count": null,
      "metadata": {
        "id": "io1dSLk-9yR7"
      },
      "outputs": [],
      "source": [
        "import pandas as pd\n",
        "import os\n",
        "import zipfile\n",
        "import shutil\n",
        "\n",
        "Data_dir = '/content/nearest_earth_objects'\n",
        "\n",
        "if os.path.exists(Data_dir):\n",
        "  shutil.rmtree(Data_dir)\n",
        "\n",
        "with zipfile.ZipFile('/content/nearest_earth.zip','r') as file:\n",
        "  file.extractall(Data_dir)\n",
        "data = pd.read_csv(os.path.join(Data_dir,'neo.csv'))"
      ]
    },
    {
      "cell_type": "code",
      "execution_count": null,
      "metadata": {
        "colab": {
          "base_uri": "https://localhost:8080/",
          "height": 300
        },
        "id": "UamANyRuqq_7",
        "outputId": "c13c4292-8ffb-4789-c2ed-c26050df2c80"
      },
      "outputs": [
        {
          "output_type": "execute_result",
          "data": {
            "text/plain": [
              "                 id  est_diameter_min  est_diameter_max  relative_velocity  \\\n",
              "count  9.083600e+04      90836.000000      90836.000000       90836.000000   \n",
              "mean   1.438288e+07          0.127432          0.284947       48066.918918   \n",
              "std    2.087202e+07          0.298511          0.667491       25293.296961   \n",
              "min    2.000433e+06          0.000609          0.001362         203.346433   \n",
              "25%    3.448110e+06          0.019256          0.043057       28619.020645   \n",
              "50%    3.748362e+06          0.048368          0.108153       44190.117890   \n",
              "75%    3.884023e+06          0.143402          0.320656       62923.604633   \n",
              "max    5.427591e+07         37.892650         84.730541      236990.128088   \n",
              "\n",
              "       miss_distance  absolute_magnitude  \n",
              "count   9.083600e+04        90836.000000  \n",
              "mean    3.706655e+07           23.527103  \n",
              "std     2.235204e+07            2.894086  \n",
              "min     6.745533e+03            9.230000  \n",
              "25%     1.721082e+07           21.340000  \n",
              "50%     3.784658e+07           23.700000  \n",
              "75%     5.654900e+07           25.700000  \n",
              "max     7.479865e+07           33.200000  "
            ],
            "text/html": [
              "\n",
              "  <div id=\"df-5bf61c1d-7971-4ada-b540-eb641153e98f\">\n",
              "    <div class=\"colab-df-container\">\n",
              "      <div>\n",
              "<style scoped>\n",
              "    .dataframe tbody tr th:only-of-type {\n",
              "        vertical-align: middle;\n",
              "    }\n",
              "\n",
              "    .dataframe tbody tr th {\n",
              "        vertical-align: top;\n",
              "    }\n",
              "\n",
              "    .dataframe thead th {\n",
              "        text-align: right;\n",
              "    }\n",
              "</style>\n",
              "<table border=\"1\" class=\"dataframe\">\n",
              "  <thead>\n",
              "    <tr style=\"text-align: right;\">\n",
              "      <th></th>\n",
              "      <th>id</th>\n",
              "      <th>est_diameter_min</th>\n",
              "      <th>est_diameter_max</th>\n",
              "      <th>relative_velocity</th>\n",
              "      <th>miss_distance</th>\n",
              "      <th>absolute_magnitude</th>\n",
              "    </tr>\n",
              "  </thead>\n",
              "  <tbody>\n",
              "    <tr>\n",
              "      <th>count</th>\n",
              "      <td>9.083600e+04</td>\n",
              "      <td>90836.000000</td>\n",
              "      <td>90836.000000</td>\n",
              "      <td>90836.000000</td>\n",
              "      <td>9.083600e+04</td>\n",
              "      <td>90836.000000</td>\n",
              "    </tr>\n",
              "    <tr>\n",
              "      <th>mean</th>\n",
              "      <td>1.438288e+07</td>\n",
              "      <td>0.127432</td>\n",
              "      <td>0.284947</td>\n",
              "      <td>48066.918918</td>\n",
              "      <td>3.706655e+07</td>\n",
              "      <td>23.527103</td>\n",
              "    </tr>\n",
              "    <tr>\n",
              "      <th>std</th>\n",
              "      <td>2.087202e+07</td>\n",
              "      <td>0.298511</td>\n",
              "      <td>0.667491</td>\n",
              "      <td>25293.296961</td>\n",
              "      <td>2.235204e+07</td>\n",
              "      <td>2.894086</td>\n",
              "    </tr>\n",
              "    <tr>\n",
              "      <th>min</th>\n",
              "      <td>2.000433e+06</td>\n",
              "      <td>0.000609</td>\n",
              "      <td>0.001362</td>\n",
              "      <td>203.346433</td>\n",
              "      <td>6.745533e+03</td>\n",
              "      <td>9.230000</td>\n",
              "    </tr>\n",
              "    <tr>\n",
              "      <th>25%</th>\n",
              "      <td>3.448110e+06</td>\n",
              "      <td>0.019256</td>\n",
              "      <td>0.043057</td>\n",
              "      <td>28619.020645</td>\n",
              "      <td>1.721082e+07</td>\n",
              "      <td>21.340000</td>\n",
              "    </tr>\n",
              "    <tr>\n",
              "      <th>50%</th>\n",
              "      <td>3.748362e+06</td>\n",
              "      <td>0.048368</td>\n",
              "      <td>0.108153</td>\n",
              "      <td>44190.117890</td>\n",
              "      <td>3.784658e+07</td>\n",
              "      <td>23.700000</td>\n",
              "    </tr>\n",
              "    <tr>\n",
              "      <th>75%</th>\n",
              "      <td>3.884023e+06</td>\n",
              "      <td>0.143402</td>\n",
              "      <td>0.320656</td>\n",
              "      <td>62923.604633</td>\n",
              "      <td>5.654900e+07</td>\n",
              "      <td>25.700000</td>\n",
              "    </tr>\n",
              "    <tr>\n",
              "      <th>max</th>\n",
              "      <td>5.427591e+07</td>\n",
              "      <td>37.892650</td>\n",
              "      <td>84.730541</td>\n",
              "      <td>236990.128088</td>\n",
              "      <td>7.479865e+07</td>\n",
              "      <td>33.200000</td>\n",
              "    </tr>\n",
              "  </tbody>\n",
              "</table>\n",
              "</div>\n",
              "      <button class=\"colab-df-convert\" onclick=\"convertToInteractive('df-5bf61c1d-7971-4ada-b540-eb641153e98f')\"\n",
              "              title=\"Convert this dataframe to an interactive table.\"\n",
              "              style=\"display:none;\">\n",
              "        \n",
              "  <svg xmlns=\"http://www.w3.org/2000/svg\" height=\"24px\"viewBox=\"0 0 24 24\"\n",
              "       width=\"24px\">\n",
              "    <path d=\"M0 0h24v24H0V0z\" fill=\"none\"/>\n",
              "    <path d=\"M18.56 5.44l.94 2.06.94-2.06 2.06-.94-2.06-.94-.94-2.06-.94 2.06-2.06.94zm-11 1L8.5 8.5l.94-2.06 2.06-.94-2.06-.94L8.5 2.5l-.94 2.06-2.06.94zm10 10l.94 2.06.94-2.06 2.06-.94-2.06-.94-.94-2.06-.94 2.06-2.06.94z\"/><path d=\"M17.41 7.96l-1.37-1.37c-.4-.4-.92-.59-1.43-.59-.52 0-1.04.2-1.43.59L10.3 9.45l-7.72 7.72c-.78.78-.78 2.05 0 2.83L4 21.41c.39.39.9.59 1.41.59.51 0 1.02-.2 1.41-.59l7.78-7.78 2.81-2.81c.8-.78.8-2.07 0-2.86zM5.41 20L4 18.59l7.72-7.72 1.47 1.35L5.41 20z\"/>\n",
              "  </svg>\n",
              "      </button>\n",
              "      \n",
              "  <style>\n",
              "    .colab-df-container {\n",
              "      display:flex;\n",
              "      flex-wrap:wrap;\n",
              "      gap: 12px;\n",
              "    }\n",
              "\n",
              "    .colab-df-convert {\n",
              "      background-color: #E8F0FE;\n",
              "      border: none;\n",
              "      border-radius: 50%;\n",
              "      cursor: pointer;\n",
              "      display: none;\n",
              "      fill: #1967D2;\n",
              "      height: 32px;\n",
              "      padding: 0 0 0 0;\n",
              "      width: 32px;\n",
              "    }\n",
              "\n",
              "    .colab-df-convert:hover {\n",
              "      background-color: #E2EBFA;\n",
              "      box-shadow: 0px 1px 2px rgba(60, 64, 67, 0.3), 0px 1px 3px 1px rgba(60, 64, 67, 0.15);\n",
              "      fill: #174EA6;\n",
              "    }\n",
              "\n",
              "    [theme=dark] .colab-df-convert {\n",
              "      background-color: #3B4455;\n",
              "      fill: #D2E3FC;\n",
              "    }\n",
              "\n",
              "    [theme=dark] .colab-df-convert:hover {\n",
              "      background-color: #434B5C;\n",
              "      box-shadow: 0px 1px 3px 1px rgba(0, 0, 0, 0.15);\n",
              "      filter: drop-shadow(0px 1px 2px rgba(0, 0, 0, 0.3));\n",
              "      fill: #FFFFFF;\n",
              "    }\n",
              "  </style>\n",
              "\n",
              "      <script>\n",
              "        const buttonEl =\n",
              "          document.querySelector('#df-5bf61c1d-7971-4ada-b540-eb641153e98f button.colab-df-convert');\n",
              "        buttonEl.style.display =\n",
              "          google.colab.kernel.accessAllowed ? 'block' : 'none';\n",
              "\n",
              "        async function convertToInteractive(key) {\n",
              "          const element = document.querySelector('#df-5bf61c1d-7971-4ada-b540-eb641153e98f');\n",
              "          const dataTable =\n",
              "            await google.colab.kernel.invokeFunction('convertToInteractive',\n",
              "                                                     [key], {});\n",
              "          if (!dataTable) return;\n",
              "\n",
              "          const docLinkHtml = 'Like what you see? Visit the ' +\n",
              "            '<a target=\"_blank\" href=https://colab.research.google.com/notebooks/data_table.ipynb>data table notebook</a>'\n",
              "            + ' to learn more about interactive tables.';\n",
              "          element.innerHTML = '';\n",
              "          dataTable['output_type'] = 'display_data';\n",
              "          await google.colab.output.renderOutput(dataTable, element);\n",
              "          const docLink = document.createElement('div');\n",
              "          docLink.innerHTML = docLinkHtml;\n",
              "          element.appendChild(docLink);\n",
              "        }\n",
              "      </script>\n",
              "    </div>\n",
              "  </div>\n",
              "  "
            ]
          },
          "metadata": {},
          "execution_count": 3
        }
      ],
      "source": [
        "data.describe()"
      ]
    },
    {
      "cell_type": "code",
      "execution_count": null,
      "metadata": {
        "colab": {
          "base_uri": "https://localhost:8080/"
        },
        "id": "TkE1-Q8QqtMJ",
        "outputId": "8d41ddea-fd5c-409c-a03b-385589bafb70"
      },
      "outputs": [
        {
          "output_type": "stream",
          "name": "stdout",
          "text": [
            "<class 'pandas.core.frame.DataFrame'>\n",
            "RangeIndex: 90836 entries, 0 to 90835\n",
            "Data columns (total 10 columns):\n",
            " #   Column              Non-Null Count  Dtype  \n",
            "---  ------              --------------  -----  \n",
            " 0   id                  90836 non-null  int64  \n",
            " 1   name                90836 non-null  object \n",
            " 2   est_diameter_min    90836 non-null  float64\n",
            " 3   est_diameter_max    90836 non-null  float64\n",
            " 4   relative_velocity   90836 non-null  float64\n",
            " 5   miss_distance       90836 non-null  float64\n",
            " 6   orbiting_body       90836 non-null  object \n",
            " 7   sentry_object       90836 non-null  bool   \n",
            " 8   absolute_magnitude  90836 non-null  float64\n",
            " 9   hazardous           90836 non-null  bool   \n",
            "dtypes: bool(2), float64(5), int64(1), object(2)\n",
            "memory usage: 5.7+ MB\n"
          ]
        }
      ],
      "source": [
        "data.info()"
      ]
    },
    {
      "cell_type": "code",
      "execution_count": null,
      "metadata": {
        "id": "l7FzB9Vg41og"
      },
      "outputs": [],
      "source": [
        "data = data.drop(['orbiting_body','sentry_object','name'],axis=1)"
      ]
    },
    {
      "cell_type": "code",
      "execution_count": null,
      "metadata": {
        "colab": {
          "base_uri": "https://localhost:8080/",
          "height": 596
        },
        "id": "uHcSej4NrGMQ",
        "outputId": "1d0f6c18-6d78-4c3b-c07e-0251d285b653"
      },
      "outputs": [
        {
          "output_type": "execute_result",
          "data": {
            "text/plain": [
              "<matplotlib.axes._subplots.AxesSubplot at 0x7ff0a01e8e10>"
            ]
          },
          "metadata": {},
          "execution_count": 6
        },
        {
          "output_type": "display_data",
          "data": {
            "text/plain": [
              "<Figure size 720x576 with 2 Axes>"
            ],
            "image/png": "[encoded data removed]"
          },
          "metadata": {
            "needs_background": "light"
          }
        }
      ],
      "source": [
        "import matplotlib.pyplot as plt\n",
        "import seaborn as sns\n",
        "from sklearn.preprocessing import LabelEncoder ,StandardScaler\n",
        "\n",
        "scaler = StandardScaler()\n",
        "label = LabelEncoder()\n",
        "label = label.fit_transform(data['hazardous'])\n",
        "\n",
        "plt.figure(figsize=(10,8))\n",
        "corr = data.corr()\n",
        "sns.heatmap(corr,annot=True,fmt='.1f',cmap='YlGnBu')"
      ]
    },
    {
      "cell_type": "code",
      "execution_count": null,
      "metadata": {
        "colab": {
          "base_uri": "https://localhost:8080/",
          "height": 554
        },
        "id": "DjuPbjuy6x3c",
        "outputId": "fd30a47b-fe93-4652-c533-005f1512dfdd"
      },
      "outputs": [
        {
          "output_type": "display_data",
          "data": {
            "text/plain": [
              "<Figure size 432x288 with 1 Axes>"
            ],
            "image/png": "[encoded data removed]"
          },
          "metadata": {
            "needs_background": "light"
          }
        },
        {
          "output_type": "display_data",
          "data": {
            "text/plain": [
              "<Figure size 432x288 with 1 Axes>"
            ],
            "image/png": "[encoded data removed]"
          },
          "metadata": {
            "needs_background": "light"
          }
        }
      ],
      "source": [
        "true_data =  data[data['hazardous'] == True]\n",
        "false_data = data[data['hazardous'] == False]\n",
        "x = data.drop(['hazardous'],axis=1)\n",
        "x = scaler.fit_transform(x)\n",
        "y = label\n",
        "\n",
        "def columns_plot(columns):\n",
        "  sns.kdeplot(true_data[columns],color='blue',label='true',shade=True)\n",
        "  sns.kdeplot(false_data[columns],color='red',label='false',shade=True)\n",
        "  plt.xlabel(columns)\n",
        "  plt.ylabel(\"\")\n",
        "  plt.legend()\n",
        "  plt.show()\n",
        "\n",
        "columns_plot('absolute_magnitude')\n",
        "columns_plot('relative_velocity')"
      ]
    },
    {
      "cell_type": "code",
      "execution_count": null,
      "metadata": {
        "colab": {
          "base_uri": "https://localhost:8080/"
        },
        "id": "3KXjmHtB2r8u",
        "outputId": "0fc87412-74e2-4cfd-da9f-9be2bb8e86f7"
      },
      "outputs": [
        {
          "output_type": "stream",
          "name": "stdout",
          "text": [
            "rf    0.953104\n",
            "gb    0.922006\n",
            "kn    0.904392\n",
            "dtype: float64\n"
          ]
        }
      ],
      "source": [
        "from sklearn.ensemble import RandomForestClassifier , GradientBoostingClassifier\n",
        "from sklearn.neighbors import KNeighborsClassifier\n",
        "from sklearn.model_selection import train_test_split\n",
        "\n",
        "x_train,x_test,y_train,y_test = train_test_split(x,y,test_size =0.2,random_state = 34)\n",
        "\n",
        "models = [('rf',RandomForestClassifier()),('gb',GradientBoostingClassifier()),('kn',KNeighborsClassifier())]\n",
        "\n",
        "score_rank =pd.Series(dtype='float64')\n",
        "\n",
        "for n , m in models:\n",
        "  name = n\n",
        "  model = m\n",
        "\n",
        "  model.fit(x_train,y_train)\n",
        "  score = model.score(x_test,y_test)\n",
        "\n",
        "  score_rank=pd.concat([score_rank,pd.Series([score],index = [name])])\n",
        "\n",
        "print(score_rank)\n"
      ]
    },
    {
      "cell_type": "code",
      "execution_count": null,
      "metadata": {
        "colab": {
          "base_uri": "https://localhost:8080/"
        },
        "id": "Y9N19ZUEWZ9T",
        "outputId": "b4d3c66f-e35a-4b15-cb77-2df3890045f1"
      },
      "outputs": [
        {
          "output_type": "stream",
          "name": "stdout",
          "text": [
            "RandomForestClassifier(criterion='entropy', n_estimators=120)\n",
            "0.9477624730934361\n"
          ]
        }
      ],
      "source": [
        "from sklearn.model_selection import RandomizedSearchCV , KFold\n",
        "\n",
        "kf = KFold()\n",
        "\n",
        "rf_model = models[0][1]\n",
        "gb_model = models[1][1]\n",
        "kn_model = models[2][1]\n",
        "\n",
        "rf_params = {'n_estimators' : [80,100,120,140],'criterion' : ['gini','entropy'],'min_samples_split' : [2,3,4]}\n",
        "gb_params = {'n_estimators' : [80,100,120],'max_depth' : [3,4,5],'learning_rate' : [0.1,0.2]}\n",
        "kn_params = {'n_neighbors' : [3,5,7]}\n",
        "\n",
        "rf_sc = RandomizedSearchCV(estimator=rf_model,param_distributions=rf_params,n_iter=16,scoring='accuracy',cv=kf,n_jobs=-1)\n",
        "\n",
        "rf_sc.fit(x_train,y_train)\n",
        "print(rf_sc.best_estimator_)\n",
        "print(rf_sc.best_score_)"
      ]
    },
    {
      "cell_type": "code",
      "execution_count": null,
      "metadata": {
        "colab": {
          "base_uri": "https://localhost:8080/"
        },
        "id": "WvXJxjKD1ZVD",
        "outputId": "9efa0c33-7c15-4702-c3a1-64e8992cc2cd"
      },
      "outputs": [
        {
          "output_type": "stream",
          "name": "stdout",
          "text": [
            "   param_n_estimators param_criterion param_min_samples_split\n",
            "7                 120         entropy                       2\n",
            "5                 140            gini                       2\n",
            "3                 100            gini                       2\n",
            "13                100         entropy                       2\n",
            "1                 100         entropy                       3\n",
            "15                 80         entropy                       2\n",
            "14                120            gini                       2\n",
            "8                 120         entropy                       3\n",
            "2                 140         entropy                       3\n",
            "4                 120            gini                       3\n",
            "10                 80         entropy                       4\n",
            "11                100            gini                       4\n",
            "0                 100            gini                       3\n",
            "9                 140            gini                       4\n",
            "6                 100         entropy                       4\n",
            "12                120            gini                       4\n"
          ]
        }
      ],
      "source": [
        "cv_res=pd.DataFrame(rf_sc.cv_results_)\n",
        "print(cv_res.sort_values(by=['mean_test_score'],ascending=False)[['param_n_estimators','param_criterion','param_min_samples_split']])"
      ]
    },
    {
      "cell_type": "code",
      "execution_count": null,
      "metadata": {
        "colab": {
          "base_uri": "https://localhost:8080/"
        },
        "id": "am8UizEdIV99",
        "outputId": "6b0cee38-8212-4c40-ffb2-df414d3485b1"
      },
      "outputs": [
        {
          "output_type": "execute_result",
          "data": {
            "text/plain": [
              "RandomizedSearchCV(cv=KFold(n_splits=5, random_state=None, shuffle=False),\n",
              "                   estimator=GradientBoostingClassifier(), n_iter=12, n_jobs=-1,\n",
              "                   param_distributions={'learning_rate': [0.1, 0.2],\n",
              "                                        'max_depth': [3, 4, 5],\n",
              "                                        'n_estimators': [80, 100, 120]},\n",
              "                   scoring='accuracy')"
            ]
          },
          "metadata": {},
          "execution_count": 13
        }
      ],
      "source": [
        "gb_sc = RandomizedSearchCV(estimator=gb_model,param_distributions=gb_params,n_iter=12,scoring='accuracy', cv=kf,n_jobs=-1)\n",
        "\n",
        "gb_sc.fit(x_train,y_train)"
      ]
    },
    {
      "cell_type": "code",
      "execution_count": null,
      "metadata": {
        "colab": {
          "base_uri": "https://localhost:8080/"
        },
        "id": "dh4DBC-V1RrY",
        "outputId": "bb29d46b-0e70-4c1e-f10c-b8f0e5b16ca8"
      },
      "outputs": [
        {
          "output_type": "stream",
          "name": "stdout",
          "text": [
            "GradientBoostingClassifier(learning_rate=0.2, max_depth=5)\n",
            "0.9341663810990852\n",
            "   param_n_estimators param_max_depth param_learning_rate\n",
            "5                 100               5                 0.2\n",
            "8                  80               5                 0.2\n",
            "7                 120               4                 0.2\n",
            "4                 100               4                 0.2\n",
            "11                 80               4                 0.2\n",
            "0                 120               3                 0.2\n",
            "10                120               4                 0.1\n",
            "3                 100               3                 0.2\n",
            "2                 100               4                 0.1\n",
            "6                  80               3                 0.2\n",
            "9                 120               3                 0.1\n",
            "1                 100               3                 0.1\n"
          ]
        }
      ],
      "source": [
        "print(gb_sc.best_estimator_)\n",
        "print(gb_sc.best_score_)\n",
        "cv_res=pd.DataFrame(gb_sc.cv_results_)\n",
        "print(cv_res.sort_values(by=['mean_test_score'],ascending=False)[['param_n_estimators','param_max_depth','param_learning_rate']])"
      ]
    },
    {
      "cell_type": "code",
      "execution_count": null,
      "metadata": {
        "colab": {
          "base_uri": "https://localhost:8080/"
        },
        "id": "hHy6TLXyrnsI",
        "outputId": "5b5a8675-d96d-4a70-f7e6-7f57f023d57d"
      },
      "outputs": [
        {
          "output_type": "execute_result",
          "data": {
            "text/plain": [
              "RandomizedSearchCV(cv=KFold(n_splits=5, random_state=None, shuffle=False),\n",
              "                   estimator=KNeighborsClassifier(), n_iter=3, n_jobs=-1,\n",
              "                   param_distributions={'n_neighbors': [3, 5, 7]},\n",
              "                   scoring='accuracy')"
            ]
          },
          "metadata": {},
          "execution_count": 15
        }
      ],
      "source": [
        "kn_sc = RandomizedSearchCV(estimator=kn_model,param_distributions=kn_params,n_iter=3,scoring='accuracy',cv=kf,n_jobs=-1)\n",
        "\n",
        "kn_sc.fit(x_train,y_train)"
      ]
    },
    {
      "cell_type": "code",
      "execution_count": null,
      "metadata": {
        "colab": {
          "base_uri": "https://localhost:8080/"
        },
        "id": "Bz6IKGu9xB7-",
        "outputId": "ac80ee85-fbc0-4d9b-a327-ce1801792c5c"
      },
      "outputs": [
        {
          "output_type": "stream",
          "name": "stdout",
          "text": [
            "KNeighborsClassifier(n_neighbors=7)\n",
            "0.9040981017648763\n",
            "2    7\n",
            "1    5\n",
            "0    3\n",
            "Name: param_n_neighbors, dtype: object\n"
          ]
        }
      ],
      "source": [
        "print(kn_sc.best_estimator_)\n",
        "print(kn_sc.best_score_)\n",
        "cv_res=pd.DataFrame(kn_sc.cv_results_)\n",
        "print(cv_res.sort_values(by=['mean_test_score'],ascending=False)['param_n_neighbors'])"
      ]
    },
    {
      "cell_type": "code",
      "execution_count": null,
      "metadata": {
        "colab": {
          "base_uri": "https://localhost:8080/"
        },
        "id": "wqnlj_O82BFI",
        "outputId": "c59dbcdc-b9b1-49bc-df72-dfae0e7557f9"
      },
      "outputs": [
        {
          "output_type": "execute_result",
          "data": {
            "text/plain": [
              "StackingClassifier(estimators=[('rf',\n",
              "                                RandomForestClassifier(criterion='entropy')),\n",
              "                               ('gb',\n",
              "                                GradientBoostingClassifier(learning_rate=0.2,\n",
              "                                                           max_depth=5)),\n",
              "                               ('kn', KNeighborsClassifier(n_neighbors=7))])"
            ]
          },
          "metadata": {},
          "execution_count": 19
        }
      ],
      "source": [
        "from sklearn.ensemble import StackingClassifier\n",
        "\n",
        "estimator = [('rf',RandomForestClassifier(n_estimators=100,criterion='entropy')),('gb',GradientBoostingClassifier(n_estimators=100,max_depth=5,learning_rate=0.2)),('kn',KNeighborsClassifier(n_neighbors=7))]\n",
        "stc_model = StackingClassifier(estimators=estimator)\n",
        "\n",
        "stc_model.fit(x_train,y_train)"
      ]
    },
    {
      "cell_type": "code",
      "source": [
        "stc_model.score(x_test,y_test)"
      ],
      "metadata": {
        "colab": {
          "base_uri": "https://localhost:8080/"
        },
        "id": "mndS-0bdw9Pz",
        "outputId": "e289bc9b-8108-43a6-aa53-39bf3cb456d9"
      },
      "execution_count": null,
      "outputs": [
        {
          "output_type": "execute_result",
          "data": {
            "text/plain": [
              "0.9547556142668429"
            ]
          },
          "metadata": {},
          "execution_count": 21
        }
      ]
    }
  ],
  "metadata": {
    "accelerator": "GPU",
    "colab": {
      "provenance": [],
      "authorship_tag": "ABX9TyOb68SHeZZSp8S33viU4Kcu"
    },
    "gpuClass": "standard",
    "kernelspec": {
      "display_name": "Python 3",
      "name": "python3"
    },
    "language_info": {
      "name": "python"
    }
  },
  "nbformat": 4,
  "nbformat_minor": 0
}
