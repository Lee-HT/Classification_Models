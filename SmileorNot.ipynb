{
  "cells": [
    {
      "cell_type": "code",
      "execution_count": null,
      "metadata": {
        "id": "lwAlVWysxaBc"
      },
      "outputs": [],
      "source": [
        "import numpy as np\n",
        "import tensorflow as tf"
      ]
    },
    {
      "cell_type": "code",
      "execution_count": null,
      "metadata": {
        "colab": {
          "base_uri": "https://localhost:8080/",
          "height": 36
        },
        "id": "X8KPCZ1NxhlO",
        "outputId": "91f91526-325c-4803-bc39-7e5b9c3b7a40"
      },
      "outputs": [
        {
          "data": {
            "application/vnd.google.colaboratory.intrinsic+json": {
              "type": "string"
            },
            "text/plain": [
              "'/content/smile_data/non_smile'"
            ]
          },
          "execution_count": 2,
          "metadata": {},
          "output_type": "execute_result"
        }
      ],
      "source": [
        "import shutil\n",
        "import os\n",
        "import zipfile\n",
        "\n",
        "root_dir = '/content'\n",
        "Data_dir = '/content/smile_data'\n",
        "\n",
        "if os.path.exists(Data_dir):\n",
        "  shutil.rmtree(Data_dir)\n",
        "\n",
        "with zipfile.ZipFile(os.path.join(root_dir,'drive/MyDrive/data','smile.zip'),'r') as file:\n",
        "  file.extractall(root_dir)\n",
        "\n",
        "shutil.move('/content/smile','/content/smile_data/smile')\n",
        "shutil.move('/content/non_smile','/content/smile_data/non_smile')"
      ]
    },
    {
      "cell_type": "code",
      "execution_count": null,
      "metadata": {
        "colab": {
          "base_uri": "https://localhost:8080/"
        },
        "id": "qTlyba8B4O8d",
        "outputId": "bb389928-4303-4447-ea16-de6822d7b50f"
      },
      "outputs": [
        {
          "data": {
            "text/plain": [
              "LabelEncoder()"
            ]
          },
          "execution_count": 3,
          "metadata": {},
          "output_type": "execute_result"
        }
      ],
      "source": [
        "from tensorflow.keras.preprocessing.image import ImageDataGenerator\n",
        "from sklearn.preprocessing import LabelEncoder\n",
        "from sklearn.model_selection import train_test_split\n",
        "import cv2\n",
        "import glob\n",
        "import pandas as pd\n",
        "\n",
        "Label = LabelEncoder()\n",
        "img_size = (224,224)\n",
        "\n",
        "def img_read(img):\n",
        "  img = cv2.imread(img,cv2.IMREAD_COLOR)\n",
        "  img = cv2.cvtColor(img,cv2.BGR2RGB)\n",
        "  img = cv2.resize(img,img_size)\n",
        "  return img\n",
        "\n",
        "dir = os.listdir(Data_dir)\n",
        "\n",
        "data = []\n",
        "\n",
        "for d in dir:\n",
        "  path = os.path.join(Data_dir,d)\n",
        "  for p in glob.glob(path + '/*.jpg'):\n",
        "    fp = []\n",
        "    fp.append(p)\n",
        "    fp.append(d)\n",
        "    data.append(fp)\n",
        "\n",
        "df = pd.DataFrame(data=data,columns = ['file_path','label'])\n",
        "Label.fit(df['label'])"
      ]
    },
    {
      "cell_type": "code",
      "execution_count": null,
      "metadata": {
        "colab": {
          "base_uri": "https://localhost:8080/"
        },
        "id": "40aqQrPkdSKC",
        "outputId": "2454242d-850f-4079-ec76-13114d48c78f"
      },
      "outputs": [
        {
          "name": "stdout",
          "output_type": "stream",
          "text": [
            "Found 842 validated image filenames belonging to 2 classes.\n",
            "Found 842 validated image filenames belonging to 2 classes.\n",
            "Found 180 validated image filenames belonging to 2 classes.\n",
            "Found 181 validated image filenames belonging to 2 classes.\n"
          ]
        }
      ],
      "source": [
        "img_gen = ImageDataGenerator(rescale = 1/255)\n",
        "train_gen = ImageDataGenerator(rescale = 1/255,rotation_range=10.0,\n",
        "                               horizontal_flip=True)\n",
        "\n",
        "df_train,df_test=   train_test_split(df,test_size=0.3,random_state =47,stratify=df['label'])\n",
        "df_test,df_val=train_test_split(df_test,test_size=0.5,random_state =47,stratify=df_test['label'])\n",
        "\n",
        "dft_train = img_gen.flow_from_dataframe(df_train,x_col='file_path',y_col='label',target_size=img_size,\n",
        "                                       class_mode='binary',batch_size=32,color_mode='rgb')\n",
        "\n",
        "train_batch = len(df_train)\n",
        "df_train = train_gen.flow_from_dataframe(df_train,x_col='file_path',y_col='label',target_size=img_size,\n",
        "                                       class_mode='binary',batch_size=160,color_mode='rgb')\n",
        "\n",
        "df_test = img_gen.flow_from_dataframe(df_test,x_col='file_path',y_col='label',target_size=img_size,\n",
        "                                      class_mode='binary',batch_size=32,color_mode='rgb')\n",
        "\n",
        "df_val = img_gen.flow_from_dataframe(df_val,x_col='file_path',y_col='label',target_size=img_size,\n",
        "                                     class_mode='binary',batch_size=32,color_mode='rgb')"
      ]
    },
    {
      "cell_type": "code",
      "execution_count": null,
      "metadata": {
        "colab": {
          "base_uri": "https://localhost:8080/"
        },
        "id": "GgA8MSrkXwUR",
        "outputId": "35968766-fde9-4951-afae-4869322fd2cc"
      },
      "outputs": [
        {
          "name": "stdout",
          "output_type": "stream",
          "text": [
            "(1642, 224, 224, 3)\n"
          ]
        }
      ],
      "source": [
        "iter = 5\n",
        "\n",
        "train_img = []\n",
        "train_label = []\n",
        "for i in range(iter):\n",
        "  img,label = df_train.next()\n",
        "  length = len(img)\n",
        "\n",
        "  for d in range(length):\n",
        "    train_img.append(img[d])\n",
        "    train_label.append(label[d])\n",
        "  \n",
        "for i in range((train_batch-1)//32+1):\n",
        "  img,label = dft_train.next()\n",
        "  length = len(img)\n",
        "\n",
        "  for d in range(length):\n",
        "    train_img.append(img[d])\n",
        "    train_label.append(label[d])\n",
        "\n",
        "train_img = tf.reshape(train_img,[-1,224,224,3])\n",
        "print(train_img.shape)\n",
        "train_label = tf.reshape(train_label,[-1,1])"
      ]
    },
    {
      "cell_type": "code",
      "execution_count": null,
      "metadata": {
        "colab": {
          "base_uri": "https://localhost:8080/"
        },
        "id": "i-1csLnLihWK",
        "outputId": "9c43dc95-a29a-4f6e-9472-018aad5e61c5"
      },
      "outputs": [
        {
          "name": "stdout",
          "output_type": "stream",
          "text": [
            "Model: \"sequential\"\n",
            "_________________________________________________________________\n",
            " Layer (type)                Output Shape              Param #   \n",
            "=================================================================\n",
            " mobilenet_1.00_224 (Functio  (None, 1024)             3228864   \n",
            " nal)                                                            \n",
            "                                                                 \n",
            " dense (Dense)               (None, 512)               524800    \n",
            "                                                                 \n",
            " batch_normalization (BatchN  (None, 512)              2048      \n",
            " ormalization)                                                   \n",
            "                                                                 \n",
            " activation (Activation)     (None, 512)               0         \n",
            "                                                                 \n",
            " dense_1 (Dense)             (None, 256)               131328    \n",
            "                                                                 \n",
            " batch_normalization_1 (Batc  (None, 256)              1024      \n",
            " hNormalization)                                                 \n",
            "                                                                 \n",
            " activation_1 (Activation)   (None, 256)               0         \n",
            "                                                                 \n",
            " dense_2 (Dense)             (None, 1)                 257       \n",
            "                                                                 \n",
            "=================================================================\n",
            "Total params: 3,888,321\n",
            "Trainable params: 3,864,897\n",
            "Non-trainable params: 23,424\n",
            "_________________________________________________________________\n"
          ]
        }
      ],
      "source": [
        "from tensorflow.keras import Sequential\n",
        "from tensorflow.keras.layers import Dense, BatchNormalization, Dropout, Activation\n",
        "from tensorflow.keras.applications import MobileNet\n",
        "from tensorflow.keras import regularizers\n",
        "\n",
        "classlen = len(Label.classes_)\n",
        "base_model = MobileNet(include_top=False,weights='imagenet',input_shape=(224,224,3),pooling='max')\n",
        "\n",
        "model = Sequential([\n",
        "    base_model,\n",
        "    Dense(512,kernel_regularizer=regularizers.L2(1e-5)),BatchNormalization(),Activation('relu'),\n",
        "    Dense(256,kernel_regularizer=regularizers.L2(1e-5)),BatchNormalization(),Activation('relu'),\n",
        "    Dense(1,activation='sigmoid')\n",
        "])\n",
        "\n",
        "model.summary()"
      ]
    },
    {
      "cell_type": "code",
      "execution_count": null,
      "metadata": {
        "id": "idNmswdNoP3P"
      },
      "outputs": [],
      "source": [
        "model.compile(optimizer=tf.keras.optimizers.Adam(learning_rate=(1e-5)),loss='binary_crossentropy',metrics=['accuracy'])"
      ]
    },
    {
      "cell_type": "code",
      "execution_count": null,
      "metadata": {
        "colab": {
          "background_save": true,
          "base_uri": "https://localhost:8080/"
        },
        "id": "XtMaYUsioPxh",
        "outputId": "c6ed1344-3baf-4b2f-809d-6f812088cfd8"
      },
      "outputs": [
        {
          "name": "stdout",
          "output_type": "stream",
          "text": [
            "Epoch 1/30\n",
            "52/52 [==============================] - 17s 226ms/step - loss: 0.7923 - accuracy: 0.5134 - val_loss: 0.8019 - val_accuracy: 0.4807\n",
            "Epoch 2/30\n",
            "52/52 [==============================] - 10s 201ms/step - loss: 0.6082 - accuracy: 0.6724 - val_loss: 0.6704 - val_accuracy: 0.5801\n",
            "Epoch 3/30\n",
            "52/52 [==============================] - 10s 201ms/step - loss: 0.5078 - accuracy: 0.7716 - val_loss: 0.5533 - val_accuracy: 0.7403\n",
            "Epoch 4/30\n",
            "52/52 [==============================] - 10s 201ms/step - loss: 0.4148 - accuracy: 0.8502 - val_loss: 0.4668 - val_accuracy: 0.8508\n",
            "Epoch 5/30\n",
            "52/52 [==============================] - 11s 203ms/step - loss: 0.3513 - accuracy: 0.8983 - val_loss: 0.3975 - val_accuracy: 0.8895\n",
            "Epoch 6/30\n",
            "52/52 [==============================] - 10s 198ms/step - loss: 0.2996 - accuracy: 0.9342 - val_loss: 0.3621 - val_accuracy: 0.8785\n",
            "Epoch 7/30\n",
            "52/52 [==============================] - 10s 196ms/step - loss: 0.2590 - accuracy: 0.9421 - val_loss: 0.3255 - val_accuracy: 0.8840\n",
            "Epoch 8/30\n",
            "52/52 [==============================] - 10s 201ms/step - loss: 0.2105 - accuracy: 0.9653 - val_loss: 0.2899 - val_accuracy: 0.8950\n",
            "Epoch 9/30\n",
            "52/52 [==============================] - 10s 200ms/step - loss: 0.1817 - accuracy: 0.9799 - val_loss: 0.2660 - val_accuracy: 0.9282\n",
            "Epoch 10/30\n",
            "52/52 [==============================] - 10s 202ms/step - loss: 0.1585 - accuracy: 0.9805 - val_loss: 0.2440 - val_accuracy: 0.9448\n",
            "Epoch 11/30\n",
            "52/52 [==============================] - 10s 200ms/step - loss: 0.1361 - accuracy: 0.9848 - val_loss: 0.2208 - val_accuracy: 0.9503\n",
            "Epoch 12/30\n",
            "52/52 [==============================] - 10s 196ms/step - loss: 0.1191 - accuracy: 0.9921 - val_loss: 0.2016 - val_accuracy: 0.9503\n",
            "Epoch 13/30\n",
            "52/52 [==============================] - 10s 196ms/step - loss: 0.1078 - accuracy: 0.9884 - val_loss: 0.1889 - val_accuracy: 0.9503\n",
            "Epoch 14/30\n",
            "52/52 [==============================] - 10s 200ms/step - loss: 0.0962 - accuracy: 0.9921 - val_loss: 0.1737 - val_accuracy: 0.9558\n",
            "Epoch 15/30\n",
            "52/52 [==============================] - 10s 195ms/step - loss: 0.0887 - accuracy: 0.9933 - val_loss: 0.1648 - val_accuracy: 0.9558\n",
            "Epoch 16/30\n",
            "52/52 [==============================] - 10s 201ms/step - loss: 0.0829 - accuracy: 0.9945 - val_loss: 0.1574 - val_accuracy: 0.9613\n",
            "Epoch 17/30\n",
            "52/52 [==============================] - 10s 195ms/step - loss: 0.0742 - accuracy: 0.9945 - val_loss: 0.1499 - val_accuracy: 0.9558\n",
            "Epoch 18/30\n",
            "52/52 [==============================] - 10s 201ms/step - loss: 0.0648 - accuracy: 0.9982 - val_loss: 0.1445 - val_accuracy: 0.9724\n",
            "Epoch 19/30\n",
            "52/52 [==============================] - 10s 198ms/step - loss: 0.0621 - accuracy: 0.9976 - val_loss: 0.1400 - val_accuracy: 0.9669\n",
            "Epoch 20/30\n",
            "52/52 [==============================] - 10s 196ms/step - loss: 0.0551 - accuracy: 0.9988 - val_loss: 0.1345 - val_accuracy: 0.9724\n",
            "Epoch 21/30\n",
            "52/52 [==============================] - 10s 193ms/step - loss: 0.0560 - accuracy: 0.9982 - val_loss: 0.1300 - val_accuracy: 0.9724\n",
            "Epoch 22/30\n",
            "52/52 [==============================] - 10s 195ms/step - loss: 0.0517 - accuracy: 0.9957 - val_loss: 0.1249 - val_accuracy: 0.9724\n",
            "Epoch 23/30\n",
            "52/52 [==============================] - 10s 197ms/step - loss: 0.0445 - accuracy: 1.0000 - val_loss: 0.1205 - val_accuracy: 0.9724\n",
            "Epoch 24/30\n",
            "52/52 [==============================] - 10s 197ms/step - loss: 0.0464 - accuracy: 0.9994 - val_loss: 0.1164 - val_accuracy: 0.9724\n",
            "Epoch 25/30\n",
            "52/52 [==============================] - 10s 196ms/step - loss: 0.0432 - accuracy: 0.9994 - val_loss: 0.1148 - val_accuracy: 0.9724\n",
            "Epoch 26/30\n",
            "52/52 [==============================] - 10s 198ms/step - loss: 0.0405 - accuracy: 0.9976 - val_loss: 0.1115 - val_accuracy: 0.9724\n",
            "Epoch 27/30\n",
            "52/52 [==============================] - 10s 200ms/step - loss: 0.0398 - accuracy: 0.9988 - val_loss: 0.1076 - val_accuracy: 0.9779\n",
            "Epoch 28/30\n",
            "52/52 [==============================] - 10s 201ms/step - loss: 0.0393 - accuracy: 0.9976 - val_loss: 0.1048 - val_accuracy: 0.9834\n",
            "Epoch 29/30\n",
            "52/52 [==============================] - 10s 197ms/step - loss: 0.0360 - accuracy: 1.0000 - val_loss: 0.1031 - val_accuracy: 0.9779\n",
            "Epoch 30/30\n",
            "52/52 [==============================] - 10s 196ms/step - loss: 0.0324 - accuracy: 0.9994 - val_loss: 0.1007 - val_accuracy: 0.9779\n"
          ]
        }
      ],
      "source": [
        "from keras.callbacks import EarlyStopping,ModelCheckpoint\n",
        "check_path = '/content/checkpoint'\n",
        "earlystop = EarlyStopping(monitor='val_loss',patience=3)\n",
        "checkpoint = ModelCheckpoint(check_path,monitor='val_accuracy',save_best_only=True,save_weights_only=True)\n",
        "\n",
        "hist = model.fit(train_img,train_label,epochs=30,validation_data = df_val,callbacks=[earlystop,checkpoint])"
      ]
    },
    {
      "cell_type": "code",
      "execution_count": null,
      "metadata": {
        "colab": {
          "background_save": true
        },
        "id": "pDyEe0-j51P1",
        "outputId": "5ee0b72d-c0f6-4a83-cd69-a08fff3b915f"
      },
      "outputs": [
        {
          "name": "stdout",
          "output_type": "stream",
          "text": [
            "6/6 [==============================] - 1s 105ms/step - loss: 0.1237 - accuracy: 0.9556\n"
          ]
        },
        {
          "data": {
            "text/plain": [
              "[0.12370851635932922, 0.9555555582046509]"
            ]
          },
          "execution_count": 9,
          "metadata": {},
          "output_type": "execute_result"
        }
      ],
      "source": [
        "model.load_weights(check_path)\n",
        "\n",
        "model.evaluate(df_test)"
      ]
    },
    {
      "cell_type": "code",
      "execution_count": null,
      "metadata": {
        "colab": {
          "background_save": true
        },
        "id": "PdvBEU_YPQWv",
        "outputId": "91f56891-4fd0-4599-c063-199c27a44ad5"
      },
      "outputs": [
        {
          "data": {
            "image/png": "[encoded data removed]",
            "text/plain": [
              "<Figure size 1152x576 with 2 Axes>"
            ]
          },
          "metadata": {},
          "output_type": "display_data"
        }
      ],
      "source": [
        "import matplotlib.pyplot as plt\n",
        "\n",
        "plt.figure(figsize=(16,8))\n",
        "plt.subplot(1,2,1)\n",
        "plt.plot(hist.history['accuracy'])\n",
        "plt.plot(hist.history['val_accuracy'])\n",
        "plt.title('accuracy')\n",
        "plt.xlabel('epochs')\n",
        "plt.ylabel('acuracy')\n",
        "plt.legend(['accuracy','val_accuracy'])\n",
        "plt.subplot(1,2,2)\n",
        "plt.plot(hist.history['loss'])\n",
        "plt.plot(hist.history['val_loss'])\n",
        "plt.title('loss')\n",
        "plt.xlabel('epochs')\n",
        "plt.ylabel('loss')\n",
        "plt.legend(['loss','val_loss'])\n",
        "plt.show()"
      ]
    }
  ],
  "metadata": {
    "accelerator": "GPU",
    "colab": {
      "collapsed_sections": [],
      "provenance": [],
      "mount_file_id": "1mEbM7OQTib_GOsOigkfJ_xtyDfODZVNP",
      "authorship_tag": "ABX9TyOFjGNfw6MjQyn39T/f3/8A"
    },
    "kernelspec": {
      "display_name": "Python 3",
      "name": "python3"
    },
    "language_info": {
      "name": "python"
    }
  },
  "nbformat": 4,
  "nbformat_minor": 0
}