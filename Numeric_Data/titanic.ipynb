{
  "cells": [
    {
      "cell_type": "code",
      "execution_count": null,
      "metadata": {
        "id": "wSLoSQcrDWfG"
      },
      "outputs": [],
      "source": [
        "import tensorflow as tf\n",
        "import numpy as np"
      ]
    },
    {
      "cell_type": "code",
      "execution_count": null,
      "metadata": {
        "id": "wz6ozkAoESCT"
      },
      "outputs": [],
      "source": [
        "import os\n",
        "import pandas as pd\n",
        "import shutil\n",
        "import zipfile\n",
        "\n",
        "root_dir = '/content'\n",
        "data_dir = '/content/titanic'\n",
        "\n",
        "if os.path.exists(data_dir):\n",
        "  shutil.rmtree(data_dir)\n",
        "\n",
        "with zipfile.ZipFile(os.path.join(root_dir,'drive/MyDrive/data/titanic.zip'),'r') as file:\n",
        "  file.extractall(data_dir)"
      ]
    },
    {
      "cell_type": "code",
      "execution_count": null,
      "metadata": {
        "id": "x5t2mXy84S-i",
        "colab": {
          "base_uri": "https://localhost:8080/"
        },
        "outputId": "85d70903-cbb1-4de6-d72b-1b57f3606120"
      },
      "outputs": [
        {
          "output_type": "execute_result",
          "data": {
            "text/plain": [
              "<function google.colab.data_table.enable_dataframe_formatter()>"
            ]
          },
          "metadata": {},
          "execution_count": 3
        }
      ],
      "source": [
        "from google.colab import data_table\n",
        "\n",
        "data_table.enable_dataframe_formatter"
      ]
    },
    {
      "cell_type": "code",
      "execution_count": 4,
      "metadata": {
        "id": "lSdGhwC1XkOV"
      },
      "outputs": [],
      "source": [
        "import seaborn as sns\n",
        "import matplotlib.pyplot as plt"
      ]
    },
    {
      "cell_type": "code",
      "execution_count": 5,
      "metadata": {
        "id": "VcnMnlV3EYTV",
        "colab": {
          "base_uri": "https://localhost:8080/"
        },
        "outputId": "46ea01a5-94bd-434a-f803-4fe52ca8593c"
      },
      "outputs": [
        {
          "data": {
            "text/plain": [
              "PassengerId      int16\n",
              "Survived          int8\n",
              "Pclass            int8\n",
              "Name            object\n",
              "Sex             object\n",
              "Age            float64\n",
              "SibSp             int8\n",
              "Parch             int8\n",
              "Ticket          object\n",
              "Fare           float64\n",
              "Cabin           object\n",
              "Embarked        object\n",
              "dtype: object"
            ]
          },
          "execution_count": 5,
          "metadata": {},
          "output_type": "execute_result"
        }
      ],
      "source": [
        "d_type = {'PassengerId':np.int16,'Survived':np.int8,'Pclass':np.int8,\n",
        "          'Name':object,'Sex':object,'Age':np.float64,'SibSp':np.int8,\n",
        "          'Parch':np.int8,'Ticket':object,'Fare':np.float64,'Cabin':object,'Embarked':object}  #columns type\n",
        "\n",
        "train_data = pd.read_csv(os.path.join(data_dir,'train.csv'), dtype = d_type) #train data load\n",
        "test_data = pd.read_csv(os.path.join(data_dir,'test.csv'), dtype = d_type) #test data load\n",
        "\n",
        "train_data.dtypes"
      ]
    },
    {
      "cell_type": "code",
      "execution_count": 6,
      "metadata": {
        "id": "exQqJaS9ltQ7"
      },
      "outputs": [],
      "source": [
        "\n",
        "from sklearn.preprocessing import MinMaxScaler, Normalizer\n",
        "\n",
        "def mm_scaler(train_df,test_df):                 #minmaxscaler\n",
        "  #df_all = pd.concat([train_df,test_df],axis=0)\n",
        "  minmax = MinMaxScaler()\n",
        "  minmax.fit(train_df.values.reshape(-1,1))\n",
        "  \n",
        "  return minmax.transform(train_df.values.reshape(-1,1)),minmax.transform(test_df.values.reshape(-1,1))\n",
        "\n",
        "def nm_scaler(train_df,test_df): #normalizer\n",
        "  nmsc = Normalizer()\n",
        "  nmsc.fit(train_df.values.reshape(-1,1))\n",
        "\n",
        "  return nmsc.transform(train_df.values.reshape(-1,1)),nmsc.transform(test_df.values.reshape(-1,1))\n",
        "\n",
        "def scatter(x,y,alp=0.2):       #scatter plot\n",
        "  plt.figure(figsize=(14,2))\n",
        "  plt.figure(figsize = (8,8))\n",
        "  plt.scatter(train_data[x].loc[train_data.Survived == 0],train_data[y].loc[train_data.Survived == 0],color='red',alpha=alp)\n",
        "  plt.scatter(train_data[x].loc[train_data.Survived == 1],train_data[y].loc[train_data.Survived == 1],color='blue',alpha=alp)\n",
        "  plt.xlabel(x)\n",
        "  plt.ylabel(y)\n",
        "  plt.show()"
      ]
    },
    {
      "cell_type": "code",
      "execution_count": 7,
      "metadata": {
        "id": "3IU620ytH7Mt",
        "colab": {
          "base_uri": "https://localhost:8080/"
        },
        "outputId": "afe5ead9-bace-4267-b203-f7ecf85eb8b9"
      },
      "outputs": [
        {
          "metadata": {
            "tags": null
          },
          "name": "stdout",
          "output_type": "stream",
          "text": [
            "   PassengerId  Survived  Pclass  \\\n",
            "0            1         0       3   \n",
            "1            2         1       1   \n",
            "2            3         1       3   \n",
            "3            4         1       1   \n",
            "4            5         0       3   \n",
            "\n",
            "                                                Name     Sex   Age  SibSp  \\\n",
            "0                            Braund, Mr. Owen Harris    male  22.0      1   \n",
            "1  Cumings, Mrs. John Bradley (Florence Briggs Th...  female  38.0      1   \n",
            "2                             Heikkinen, Miss. Laina  female  26.0      0   \n",
            "3       Futrelle, Mrs. Jacques Heath (Lily May Peel)  female  35.0      1   \n",
            "4                           Allen, Mr. William Henry    male  35.0      0   \n",
            "\n",
            "   Parch            Ticket     Fare Cabin Embarked  \n",
            "0      0         A/5 21171   7.2500   NaN        S  \n",
            "1      0          PC 17599  71.2833   C85        C  \n",
            "2      0  STON/O2. 3101282   7.9250   NaN        S  \n",
            "3      0            113803  53.1000  C123        S  \n",
            "4      0            373450   8.0500   NaN        S  \n"
          ]
        }
      ],
      "source": [
        "print(train_data.head(5))\n"
      ]
    },
    {
      "cell_type": "code",
      "execution_count": 8,
      "metadata": {
        "id": "9w8I2IyWavx7",
        "colab": {
          "base_uri": "https://localhost:8080/",
          "height": 279
        },
        "outputId": "478e4517-76b9-42d2-ac3a-9408fa3f2e94"
      },
      "outputs": [
        {
          "data": {
            "image/png": "[encoded data removed]",
            "text/plain": [
              "<Figure size 432x288 with 1 Axes>"
            ]
          },
          "metadata": {},
          "output_type": "display_data"
        }
      ],
      "source": [
        "#Pclass\n",
        "\n",
        "sns.countplot(x='Pclass', data = train_data, hue = 'Survived')   #등급이 높을 수록 생존률 높음\n",
        "plt.show()\n",
        "\n",
        "train_data.Pclass,test_data.Pclass = mm_scaler(train_data.Pclass,test_data.Pclass)"
      ]
    },
    {
      "cell_type": "code",
      "execution_count": 9,
      "metadata": {
        "id": "E2ABA9ciJrH0",
        "colab": {
          "base_uri": "https://localhost:8080/",
          "height": 279
        },
        "outputId": "ac5d7c94-d26b-4ea7-82d3-4e96632325ac"
      },
      "outputs": [
        {
          "data": {
            "image/png": "[encoded data removed]",
            "text/plain": [
              "<Figure size 432x288 with 1 Axes>"
            ]
          },
          "metadata": {},
          "output_type": "display_data"
        }
      ],
      "source": [
        "#Sex\n",
        "sns.countplot(x='Sex', data = train_data, hue ='Survived')   #여성의 생존률 높음\n",
        "plt.show()\n",
        "\n",
        "train_data.Sex = train_data.Sex.replace({'male' : 0 ,'female' : 1}) #pre1\n",
        "test_data.Sex = test_data.Sex.replace({'male' : 0,'female' : 1})\n"
      ]
    },
    {
      "cell_type": "code",
      "source": [
        "scatter('Age','Fare')\n"
      ],
      "metadata": {
        "colab": {
          "base_uri": "https://localhost:8080/",
          "height": 514
        },
        "id": "HoVb0-vI_cvi",
        "outputId": "95cffdb3-d2f6-46ef-ddd1-72b800bdabf5"
      },
      "execution_count": 10,
      "outputs": [
        {
          "data": {
            "text/plain": [
              "<Figure size 1008x144 with 0 Axes>"
            ]
          },
          "metadata": {},
          "output_type": "display_data"
        },
        {
          "data": {
            "image/png": "[encoded data removed]",
            "text/plain": [
              "<Figure size 576x576 with 1 Axes>"
            ]
          },
          "metadata": {},
          "output_type": "display_data"
        }
      ]
    },
    {
      "cell_type": "code",
      "execution_count": 11,
      "metadata": {
        "id": "JNy9GyuXYLn2",
        "colab": {
          "base_uri": "https://localhost:8080/",
          "height": 610
        },
        "outputId": "2acf2250-5230-48f5-8b16-6795a3b8dd3b"
      },
      "outputs": [
        {
          "metadata": {
            "tags": null
          },
          "name": "stdout",
          "output_type": "stream",
          "text": [
            "177\n"
          ]
        },
        {
          "data": {
            "image/png": "[encoded data removed]",
            "text/plain": [
              "<Figure size 576x288 with 1 Axes>"
            ]
          },
          "metadata": {},
          "output_type": "display_data"
        },
        {
          "data": {
            "image/png": "[encoded data removed]",
            "text/plain": [
              "<Figure size 576x288 with 1 Axes>"
            ]
          },
          "metadata": {},
          "output_type": "display_data"
        },
        {
          "metadata": {
            "tags": null
          },
          "name": "stdout",
          "output_type": "stream",
          "text": [
            "\n",
            "\n",
            " False\n"
          ]
        }
      ],
      "source": [
        "#Age\n",
        "\n",
        "print(train_data.Age.isna().sum())\n",
        "Age_count = train_data.loc[:,['Survived','Age']]\n",
        "Age_count.Age = train_data.Age.dropna().apply(lambda x: int(x//5*5))\n",
        "Age_mean = Age_count.groupby('Age').mean()\n",
        "\n",
        "plt.figure(figsize = (8,4))\n",
        "sns.barplot(x=Age_mean.index,y=Age_mean.Survived)\n",
        "plt.show()\n",
        "\n",
        "Age_def = train_data.Age.mean()\n",
        "train_data.Age.replace({np.nan:Age_def},inplace = True)\n",
        "test_data.Age.replace({np.nan:Age_def},inplace = True)\n",
        "\n",
        "train_data.Age = train_data.Age.apply(lambda x: int(x//5*5))\n",
        "test_data.Age = test_data.Age.apply(lambda x: int(x//5*5))\n",
        "plt.figure(figsize = (8,4))\n",
        "sns.barplot(x='Age',y='Survived',data= train_data)\n",
        "\n",
        "plt.show()\n",
        "print('\\n\\n',train_data.Age.isna().any())\n",
        "\n",
        "train_data.Age,test_data.Age = mm_scaler(train_data.Age,test_data.Age)"
      ]
    },
    {
      "cell_type": "code",
      "source": [
        "#SibSp\n",
        "\n",
        "sns.countplot(data = train_data,x = 'SibSp',hue = 'Survived') #형제 or 배우자가 1명일 때 생존률 높음\n",
        "plt.show()"
      ],
      "metadata": {
        "id": "dNLfe0lW1yxT",
        "colab": {
          "base_uri": "https://localhost:8080/",
          "height": 279
        },
        "outputId": "eb5822ba-69bf-4edf-ad0f-f117b677b98a"
      },
      "execution_count": 12,
      "outputs": [
        {
          "data": {
            "image/png": "[encoded data removed]",
            "text/plain": [
              "<Figure size 432x288 with 1 Axes>"
            ]
          },
          "metadata": {},
          "output_type": "display_data"
        }
      ]
    },
    {
      "cell_type": "code",
      "source": [
        "#Parch\n",
        "sns.countplot(data=train_data,x='Parch',hue='Survived')   #sibsp와 유사함\n",
        "plt.show()"
      ],
      "metadata": {
        "id": "9G7-yAuL2c4U",
        "colab": {
          "base_uri": "https://localhost:8080/",
          "height": 279
        },
        "outputId": "746fee5e-c674-494f-fb8b-1e89ec9dd7ef"
      },
      "execution_count": 13,
      "outputs": [
        {
          "data": {
            "image/png": "[encoded data removed]",
            "text/plain": [
              "<Figure size 432x288 with 1 Axes>"
            ]
          },
          "metadata": {},
          "output_type": "display_data"
        }
      ]
    },
    {
      "cell_type": "code",
      "execution_count": 14,
      "metadata": {
        "id": "Zhgxw0-eu4_C",
        "colab": {
          "base_uri": "https://localhost:8080/",
          "height": 541
        },
        "outputId": "95f509dc-620c-4de8-d62b-0480ff759a65"
      },
      "outputs": [
        {
          "data": {
            "image/png": "[encoded data removed]",
            "text/plain": [
              "<Figure size 432x288 with 1 Axes>"
            ]
          },
          "metadata": {},
          "output_type": "display_data"
        },
        {
          "data": {
            "image/png": "[encoded data removed]",
            "text/plain": [
              "<Figure size 432x288 with 1 Axes>"
            ]
          },
          "metadata": {},
          "output_type": "display_data"
        }
      ],
      "source": [
        "#Cabin\n",
        "\n",
        "import re\n",
        "from sklearn.preprocessing import LabelEncoder\n",
        "\n",
        "alpha = re.compile('[ \\d]*')\n",
        "def Cabin_pre(text):\n",
        "  if text == '':\n",
        "    return text\n",
        "  text = alpha.sub('',text)\n",
        "  f = text[0]\n",
        "  for i in range(1,len(text)):\n",
        "    if text[i] != f:\n",
        "      return text\n",
        "  return text[0]\n",
        "  #return text\n",
        "\n",
        "le_cb = LabelEncoder()\n",
        "\n",
        "train_data.Cabin.replace({None:''},inplace = True) #None값 -> ''\n",
        "test_data.Cabin.replace({None:''},inplace = True)\n",
        "\n",
        "train_data.Cabin = train_data.Cabin.apply(func = Cabin_pre) #Cabin을 영문자끼리 통합\n",
        "test_data.Cabin = test_data.Cabin.apply(func = Cabin_pre)\n",
        "\n",
        "sns.countplot(x = 'Cabin', data = train_data.loc[train_data.Cabin != ''], hue = 'Survived')\n",
        "plt.show()\n",
        "\n",
        "Cabin_gr = train_data.loc[:,['Cabin','Survived']].groupby('Cabin').mean()\n",
        "sns.barplot(x = Cabin_gr.index ,y = Cabin_gr.Survived)\n",
        "plt.show()\n",
        "\n",
        "ccount = train_data.Cabin.value_counts()\n"
      ]
    },
    {
      "cell_type": "code",
      "execution_count": 15,
      "metadata": {
        "id": "jhZ-rdxTLSLI",
        "colab": {
          "base_uri": "https://localhost:8080/",
          "height": 415
        },
        "outputId": "fbe02985-cd26-41c7-f855-97734c3094a5"
      },
      "outputs": [
        {
          "metadata": {
            "tags": null
          },
          "name": "stdout",
          "output_type": "stream",
          "text": [
            "11 \n",
            "\n",
            "     696\n",
            "C     59\n",
            "B     47\n",
            "D     33\n",
            "E     32\n",
            "A     15\n",
            "F      9\n",
            "Name: Cabin, dtype: int64\n"
          ]
        },
        {
          "data": {
            "application/vnd.google.colaboratory.module+javascript": "\n      import \"https://ssl.gstatic.com/colaboratory/data_table/fb998edc550c7947/data_table.js\";\n\n      window.createDataTable({\n        data: [[\"\",\n{\n            'v': 0.30028735632183906,\n            'f': \"0.30028735632183906\",\n        }],\n [\"A\",\n{\n            'v': 0.4666666666666667,\n            'f': \"0.4666666666666667\",\n        }],\n [\"C\",\n{\n            'v': 0.5932203389830508,\n            'f': \"0.5932203389830508\",\n        }],\n [\"B\",\n{\n            'v': 0.7446808510638298,\n            'f': \"0.7446808510638298\",\n        }],\n [\"E\",\n{\n            'v': 0.75,\n            'f': \"0.75\",\n        }],\n [\"D\",\n{\n            'v': 0.7575757575757576,\n            'f': \"0.7575757575757576\",\n        }],\n [\"F\",\n{\n            'v': 0.7777777777777778,\n            'f': \"0.7777777777777778\",\n        }]],\n        columns: [[\"string\", \"Cabin\"], [\"number\", \"Survived\"]],\n        columnOptions: [{\"width\": \"1px\", \"className\": \"index_column\"}],\n        rowsPerPage: 10,\n        helpUrl: \"https://colab.research.google.com/notebooks/data_table.ipynb\",\n        suppressOutputScrolling: true,\n        minimumWidth: undefined,\n      });\n    ",
            "text/html": [
              "<div>\n",
              "<style scoped>\n",
              "    .dataframe tbody tr th:only-of-type {\n",
              "        vertical-align: middle;\n",
              "    }\n",
              "\n",
              "    .dataframe tbody tr th {\n",
              "        vertical-align: top;\n",
              "    }\n",
              "\n",
              "    .dataframe thead th {\n",
              "        text-align: right;\n",
              "    }\n",
              "</style>\n",
              "<table border=\"1\" class=\"dataframe\">\n",
              "  <thead>\n",
              "    <tr style=\"text-align: right;\">\n",
              "      <th></th>\n",
              "      <th>Survived</th>\n",
              "    </tr>\n",
              "    <tr>\n",
              "      <th>Cabin</th>\n",
              "      <th></th>\n",
              "    </tr>\n",
              "  </thead>\n",
              "  <tbody>\n",
              "    <tr>\n",
              "      <th></th>\n",
              "      <td>0.300287</td>\n",
              "    </tr>\n",
              "    <tr>\n",
              "      <th>A</th>\n",
              "      <td>0.466667</td>\n",
              "    </tr>\n",
              "    <tr>\n",
              "      <th>C</th>\n",
              "      <td>0.593220</td>\n",
              "    </tr>\n",
              "    <tr>\n",
              "      <th>B</th>\n",
              "      <td>0.744681</td>\n",
              "    </tr>\n",
              "    <tr>\n",
              "      <th>E</th>\n",
              "      <td>0.750000</td>\n",
              "    </tr>\n",
              "    <tr>\n",
              "      <th>D</th>\n",
              "      <td>0.757576</td>\n",
              "    </tr>\n",
              "    <tr>\n",
              "      <th>F</th>\n",
              "      <td>0.777778</td>\n",
              "    </tr>\n",
              "  </tbody>\n",
              "</table>\n",
              "</div>"
            ],
            "text/plain": [
              "<google.colab.data_table.DataTable object>"
            ]
          },
          "execution_count": 15,
          "metadata": {},
          "output_type": "execute_result"
        }
      ],
      "source": [
        "cdel = []\n",
        "\n",
        "def delcab(text):\n",
        "  if text in cdel:\n",
        "    return ''\n",
        "  return text\n",
        "\n",
        "for i in range(0,ccount.shape[0]):\n",
        "  if ccount.iloc[i] < 5:\n",
        "    cdel.append(ccount.index[i])\n",
        "\n",
        "print(len(train_data.Cabin.value_counts()),'\\n')\n",
        "train_data.Cabin = train_data.Cabin.apply(delcab)   #value가 너무 적은 요소 제거\n",
        "test_data.Cabin = test_data.Cabin.apply(delcab)\n",
        "\n",
        "cabin = train_data[['Cabin','Survived']]\n",
        "cabin = cabin.groupby('Cabin').mean().sort_values(by='Survived')\n",
        "\n",
        "print(train_data.Cabin.value_counts())\n",
        "\n",
        "data_table.DataTable(cabin,num_rows_per_page = 10)\n"
      ]
    },
    {
      "cell_type": "code",
      "execution_count": 16,
      "metadata": {
        "id": "-by4z-pY3_2y",
        "colab": {
          "base_uri": "https://localhost:8080/"
        },
        "outputId": "1336deb0-752c-4bb4-9511-07272699ffc4"
      },
      "outputs": [
        {
          "metadata": {
            "tags": null
          },
          "name": "stdout",
          "output_type": "stream",
          "text": [
            "['', 'A', 'C', 'B', 'E', 'D', 'F']\n",
            "0    0\n",
            "1    2\n",
            "2    0\n",
            "3    2\n",
            "4    0\n",
            "Name: Cabin, dtype: int64\n"
          ]
        }
      ],
      "source": [
        "\n",
        "le_cb.classes_ = cabin.index.tolist()   #분류한 Cabin 라벨링\n",
        "print(le_cb.classes_)\n",
        "\n",
        "train_data.Cabin = le_cb.transform(train_data.Cabin) #pre3\n",
        "print(train_data.Cabin.head(5))\n"
      ]
    },
    {
      "cell_type": "code",
      "execution_count": 17,
      "metadata": {
        "id": "yNCzg9Y6h8Oo"
      },
      "outputs": [],
      "source": [
        "cabin_classes = le_cb.classes_\n",
        "def Cabins(text):\n",
        "  if text in cabin_classes:\n",
        "    return text\n",
        "  return ''\n",
        "\n",
        "test_data.Cabin = test_data.Cabin.apply(func = Cabins)  #test데이터에만 존재하는 Cabin 예외\n",
        "test_data.Cabin = le_cb.transform(test_data.Cabin)\n",
        "\n",
        "train_data.Cabin,test_data.Cabin = mm_scaler(train_data.Cabin,test_data.Cabin)"
      ]
    },
    {
      "cell_type": "code",
      "execution_count": 18,
      "metadata": {
        "id": "cV5DVpcOOasT",
        "colab": {
          "base_uri": "https://localhost:8080/",
          "height": 296
        },
        "outputId": "da900982-e79f-4445-ae14-7f8c8dde081c"
      },
      "outputs": [
        {
          "metadata": {
            "tags": null
          },
          "name": "stdout",
          "output_type": "stream",
          "text": [
            "embark_isnull :  True\n"
          ]
        },
        {
          "data": {
            "image/png": "[encoded data removed]",
            "text/plain": [
              "<Figure size 432x288 with 1 Axes>"
            ]
          },
          "metadata": {},
          "output_type": "display_data"
        }
      ],
      "source": [
        "#Embarked\n",
        "\n",
        "embark = train_data[['Survived','Embarked']]\n",
        "group_eb = embark.groupby('Embarked')\n",
        "#null값 존재 확인\n",
        "print('embark_isnull : ',embark.Embarked.isna().any())\n",
        "\n",
        "sns.countplot(x = 'Embarked',data = train_data,hue = 'Survived')   #Q에서 탑승한 사람 생존률 높음\n",
        "plt.show()\n",
        "\n",
        "eb_label = {'S':0,'Q':1,'C':2,None :0}\n",
        "train_data.Embarked.replace(eb_label,inplace = True) #None값 S로 전환\n",
        "test_data.Embarked.replace(eb_label,inplace = True)\n",
        "\n",
        "train_data.Embarked,test_data.Embarked = mm_scaler(train_data.Embarked,test_data.Embarked)"
      ]
    },
    {
      "cell_type": "code",
      "execution_count": 19,
      "metadata": {
        "id": "yLsAJkLvk2tB",
        "colab": {
          "base_uri": "https://localhost:8080/",
          "height": 627
        },
        "outputId": "04620024-5817-40cb-a924-f5bc059a8560"
      },
      "outputs": [
        {
          "metadata": {
            "tags": null
          },
          "name": "stdout",
          "output_type": "stream",
          "text": [
            "3    301\n",
            "2    183\n",
            "1    146\n",
            "P     65\n",
            "S     65\n",
            "C     47\n",
            "A     29\n",
            "W     13\n",
            "4     10\n",
            "7      9\n",
            "F      7\n",
            "6      6\n",
            "L      4\n",
            "5      3\n",
            "8      2\n",
            "9      1\n",
            "Name: Ticket, dtype: int64\n",
            "['L', '5', '8', '9']\n"
          ]
        },
        {
          "data": {
            "application/vnd.google.colaboratory.module+javascript": "\n      import \"https://ssl.gstatic.com/colaboratory/data_table/fb998edc550c7947/data_table.js\";\n\n      window.createDataTable({\n        data: [[\"5\",\n{\n            'v': 0.0,\n            'f': \"0.0\",\n        }],\n [\"8\",\n{\n            'v': 0.0,\n            'f': \"0.0\",\n        }],\n [\"A\",\n{\n            'v': 0.06896551724137931,\n            'f': \"0.06896551724137931\",\n        }],\n [\"7\",\n{\n            'v': 0.1111111111111111,\n            'f': \"0.1111111111111111\",\n        }],\n [\"W\",\n{\n            'v': 0.15384615384615385,\n            'f': \"0.15384615384615385\",\n        }],\n [\"6\",\n{\n            'v': 0.16666666666666666,\n            'f': \"0.16666666666666666\",\n        }],\n [\"4\",\n{\n            'v': 0.2,\n            'f': \"0.2\",\n        }],\n [\"3\",\n{\n            'v': 0.23920265780730898,\n            'f': \"0.23920265780730898\",\n        }],\n [\"L\",\n{\n            'v': 0.25,\n            'f': \"0.25\",\n        }],\n [\"S\",\n{\n            'v': 0.3230769230769231,\n            'f': \"0.3230769230769231\",\n        }],\n [\"C\",\n{\n            'v': 0.3404255319148936,\n            'f': \"0.3404255319148936\",\n        }],\n [\"2\",\n{\n            'v': 0.4644808743169399,\n            'f': \"0.4644808743169399\",\n        }],\n [\"F\",\n{\n            'v': 0.5714285714285714,\n            'f': \"0.5714285714285714\",\n        }],\n [\"1\",\n{\n            'v': 0.6301369863013698,\n            'f': \"0.6301369863013698\",\n        }],\n [\"P\",\n{\n            'v': 0.6461538461538462,\n            'f': \"0.6461538461538462\",\n        }],\n [\"9\",\n{\n            'v': 1.0,\n            'f': \"1.0\",\n        }]],\n        columns: [[\"string\", \"Ticket\"], [\"number\", \"Survived\"]],\n        columnOptions: [{\"width\": \"1px\", \"className\": \"index_column\"}],\n        rowsPerPage: 10,\n        helpUrl: \"https://colab.research.google.com/notebooks/data_table.ipynb\",\n        suppressOutputScrolling: true,\n        minimumWidth: undefined,\n      });\n    ",
            "text/html": [
              "<div>\n",
              "<style scoped>\n",
              "    .dataframe tbody tr th:only-of-type {\n",
              "        vertical-align: middle;\n",
              "    }\n",
              "\n",
              "    .dataframe tbody tr th {\n",
              "        vertical-align: top;\n",
              "    }\n",
              "\n",
              "    .dataframe thead th {\n",
              "        text-align: right;\n",
              "    }\n",
              "</style>\n",
              "<table border=\"1\" class=\"dataframe\">\n",
              "  <thead>\n",
              "    <tr style=\"text-align: right;\">\n",
              "      <th></th>\n",
              "      <th>Survived</th>\n",
              "    </tr>\n",
              "    <tr>\n",
              "      <th>Ticket</th>\n",
              "      <th></th>\n",
              "    </tr>\n",
              "  </thead>\n",
              "  <tbody>\n",
              "    <tr>\n",
              "      <th>5</th>\n",
              "      <td>0.000000</td>\n",
              "    </tr>\n",
              "    <tr>\n",
              "      <th>8</th>\n",
              "      <td>0.000000</td>\n",
              "    </tr>\n",
              "    <tr>\n",
              "      <th>A</th>\n",
              "      <td>0.068966</td>\n",
              "    </tr>\n",
              "    <tr>\n",
              "      <th>7</th>\n",
              "      <td>0.111111</td>\n",
              "    </tr>\n",
              "    <tr>\n",
              "      <th>W</th>\n",
              "      <td>0.153846</td>\n",
              "    </tr>\n",
              "    <tr>\n",
              "      <th>6</th>\n",
              "      <td>0.166667</td>\n",
              "    </tr>\n",
              "    <tr>\n",
              "      <th>4</th>\n",
              "      <td>0.200000</td>\n",
              "    </tr>\n",
              "    <tr>\n",
              "      <th>3</th>\n",
              "      <td>0.239203</td>\n",
              "    </tr>\n",
              "    <tr>\n",
              "      <th>L</th>\n",
              "      <td>0.250000</td>\n",
              "    </tr>\n",
              "    <tr>\n",
              "      <th>S</th>\n",
              "      <td>0.323077</td>\n",
              "    </tr>\n",
              "    <tr>\n",
              "      <th>C</th>\n",
              "      <td>0.340426</td>\n",
              "    </tr>\n",
              "    <tr>\n",
              "      <th>2</th>\n",
              "      <td>0.464481</td>\n",
              "    </tr>\n",
              "    <tr>\n",
              "      <th>F</th>\n",
              "      <td>0.571429</td>\n",
              "    </tr>\n",
              "    <tr>\n",
              "      <th>1</th>\n",
              "      <td>0.630137</td>\n",
              "    </tr>\n",
              "    <tr>\n",
              "      <th>P</th>\n",
              "      <td>0.646154</td>\n",
              "    </tr>\n",
              "    <tr>\n",
              "      <th>9</th>\n",
              "      <td>1.000000</td>\n",
              "    </tr>\n",
              "  </tbody>\n",
              "</table>\n",
              "</div>"
            ],
            "text/plain": [
              "<google.colab.data_table.DataTable object>"
            ]
          },
          "execution_count": 19,
          "metadata": {},
          "output_type": "execute_result"
        }
      ],
      "source": [
        "#Ticket\n",
        "\n",
        "def delint(text):\n",
        "  text = re.sub('[^\\w]','',text)    #영문,숫자 제외 삭제\n",
        "  text = re.sub('([0-9]{1})([0-9]*)','\\g<1>',text)    #숫자 축소\n",
        "  if re.match('[a-zA-Z][0-9]*',text):                 #영문,숫자 동시 존재시 영문만 남김\n",
        "    text = text[0]\n",
        "  return re.sub('([a-zA-Z]{1})([a-zA-Z]*)','\\g<1>',text)    #영문 축소\n",
        "\n",
        "tdel = []\n",
        "def deltic(text):\n",
        "  if text in tdel:\n",
        "    return ''\n",
        "  return text\n",
        "\n",
        "train_data.Ticket = train_data.Ticket.apply(func = delint)    #value 4개 이하인 요소 분류\n",
        "test_data.Ticket = test_data.Ticket.apply(func = delint)\n",
        "ticket = train_data[['Survived','Ticket']]\n",
        "tcount = ticket.Ticket.value_counts()\n",
        "print(tcount)\n",
        "\n",
        "for i in range(0,tcount.shape[0]):\n",
        "  if tcount.iloc[i] < 5:\n",
        "    tdel.append(tcount.index[i])\n",
        "\n",
        "print(tdel)\n",
        "\n",
        "ticket = ticket.groupby('Ticket').mean().sort_values(by = 'Survived')\n",
        "\n",
        "data_table.DataTable(ticket,num_rows_per_page=10)\n"
      ]
    },
    {
      "cell_type": "code",
      "execution_count": 20,
      "metadata": {
        "id": "Sm5P6CVLbple",
        "colab": {
          "base_uri": "https://localhost:8080/"
        },
        "outputId": "b1852fa5-0120-4601-9c62-7af9afd1d60c"
      },
      "outputs": [
        {
          "metadata": {
            "tags": null
          },
          "name": "stdout",
          "output_type": "stream",
          "text": [
            "['', 'A', '7', 'W', '6', '4', '3', 'S', 'C', '2', 'F', '1', 'P']\n",
            "0     1\n",
            "1    12\n",
            "2     7\n",
            "3    11\n",
            "4     6\n",
            "Name: Ticket, dtype: int64\n"
          ]
        }
      ],
      "source": [
        "le_tk = LabelEncoder()\n",
        "ticket.drop(tdel,inplace = True)\n",
        "\n",
        "train_data.Ticket = train_data.Ticket.apply(deltic)\n",
        "test_data.Ticket = test_data.Ticket.apply(deltic)\n",
        "\n",
        "tic2list = ticket.index.to_list()\n",
        "tic2list.insert(0,'')\n",
        "print(tic2list)\n",
        "le_tk.classes_ = tic2list\n",
        "train_data.Ticket = le_tk.transform(train_data.Ticket)  #분류된 Ticket 라벨링\n",
        "print(train_data.Ticket.head(5))\n"
      ]
    },
    {
      "cell_type": "code",
      "execution_count": 21,
      "metadata": {
        "id": "yjCYhNuUgqBB"
      },
      "outputs": [],
      "source": [
        "def ticketna(text):\n",
        "  if text in tic2list:\n",
        "    return text\n",
        "  return ''\n",
        "\n",
        "\n",
        "test_data.Ticket = test_data.Ticket.apply(func = ticketna)  #train data에 없는 요소 예외\n",
        "test_data.Ticket = le_tk.transform(test_data.Ticket)\n",
        "\n",
        "train_data.Ticket,test_data.Ticket = mm_scaler(train_data.Ticket,test_data.Ticket)"
      ]
    },
    {
      "cell_type": "code",
      "execution_count": 22,
      "metadata": {
        "id": "7uC56R3BYXRI",
        "colab": {
          "base_uri": "https://localhost:8080/",
          "height": 544
        },
        "outputId": "372974a1-1bcd-4718-9004-075622534b8a"
      },
      "outputs": [
        {
          "metadata": {
            "tags": null
          },
          "name": "stdout",
          "output_type": "stream",
          "text": [
            "count    891.000000\n",
            "mean      32.204208\n",
            "std       49.693429\n",
            "min        0.000000\n",
            "25%        7.910400\n",
            "50%       14.454200\n",
            "75%       31.000000\n",
            "max      512.329200\n",
            "Name: Fare, dtype: float64\n"
          ]
        },
        {
          "data": {
            "image/png": "[encoded data removed]",
            "text/plain": [
              "<Figure size 864x432 with 2 Axes>"
            ]
          },
          "metadata": {},
          "output_type": "display_data"
        }
      ],
      "source": [
        "#Fare\n",
        "print(train_data.Fare.describe())\n",
        "\n",
        "def outlier(data):\n",
        "  q25 = np.percentile(train_data.Fare,25)\n",
        "  q75 = np.percentile(train_data.Fare,75)\n",
        "  iqr = (q75-q25) * 2.5\n",
        "\n",
        "  lowest = q25 - iqr\n",
        "  highest = q75 + iqr\n",
        "  if data > highest:\n",
        "    return highest\n",
        "  elif data < lowest:\n",
        "    return lowest\n",
        "  return data\n",
        "\n",
        "plt.figure(figsize = (12,6))\n",
        "plt.subplot(1,2,1)\n",
        "#plt.figure(figsize = (6,4))\n",
        "sns.boxplot(x=train_data.Survived, y=train_data.Fare)\n",
        "\n",
        "train_data.Fare = train_data.Fare.apply(outlier)\n",
        "test_data.Fare = test_data.Fare.apply(outlier)\n",
        "\n",
        "plt.subplot(1,2,2)\n",
        "sns.boxplot(x=train_data.Survived, y=train_data.Fare)\n",
        "plt.show()\n",
        "\n",
        "train_data.Fare,test_data.Fare = mm_scaler(train_data.Fare,test_data.Fare)"
      ]
    },
    {
      "cell_type": "code",
      "execution_count": 23,
      "metadata": {
        "id": "23eyESUVIwII",
        "colab": {
          "base_uri": "https://localhost:8080/",
          "height": 663
        },
        "outputId": "00cf5e48-592e-470e-938d-738e69aade53"
      },
      "outputs": [
        {
          "data": {
            "text/plain": [
              "<matplotlib.axes._subplots.AxesSubplot at 0x7fa4bc26fe20>"
            ]
          },
          "execution_count": 23,
          "metadata": {},
          "output_type": "execute_result"
        },
        {
          "data": {
            "image/png": "[encoded data removed]",
            "text/plain": [
              "<Figure size 864x720 with 2 Axes>"
            ]
          },
          "metadata": {},
          "output_type": "display_data"
        }
      ],
      "source": [
        "\n",
        "plt.figure(figsize = (12,10))\n",
        "sns.heatmap(train_data.corr(),annot=True,fmt = '.1f',cmap = 'YlGnBu')\n"
      ]
    },
    {
      "cell_type": "code",
      "execution_count": 24,
      "metadata": {
        "id": "Snkgb9bjcvnN",
        "colab": {
          "base_uri": "https://localhost:8080/"
        },
        "outputId": "5ba597e3-3376-43f7-aeb3-85967b5ea38d"
      },
      "outputs": [
        {
          "metadata": {
            "tags": null
          },
          "name": "stdout",
          "output_type": "stream",
          "text": [
            "   Pclass  Sex     Age  SibSp  Parch      Fare     Cabin  Embarked    Ticket\n",
            "0     1.0    0  0.2500      1      0  0.081714  0.000000       0.0  0.083333\n",
            "1     0.0    1  0.4375      1      0  0.803427  0.333333       1.0  1.000000\n",
            "2     1.0    1  0.3125      0      0  0.089322  0.000000       0.0  0.583333\n",
            "3     0.0    1  0.4375      1      0  0.598485  0.333333       0.0  0.916667\n",
            "4     1.0    0  0.4375      0      0  0.090731  0.000000       0.0  0.500000\n",
            "891\n",
            "   Survived\n",
            "0         0\n",
            "1         1\n",
            "2         1\n",
            "3         1\n",
            "4         0\n",
            "891\n"
          ]
        }
      ],
      "source": [
        "use_columns = ['Pclass','Sex','Age','SibSp','Parch','Fare','Cabin','Embarked','Ticket']\n",
        "drop_col = []\n",
        "use_columns = [u for u in use_columns if not u in drop_col]\n",
        "label_column = ['Survived']\n",
        "\n",
        "x_train = train_data[use_columns]\n",
        "print(x_train.head(5))\n",
        "print(len(x_train))\n",
        "\n",
        "y_train = train_data[label_column]\n",
        "print(y_train.head(5))\n",
        "print(len(x_train))\n",
        "\n"
      ]
    },
    {
      "cell_type": "code",
      "execution_count": 25,
      "metadata": {
        "id": "SOlO_4p4BXwg",
        "colab": {
          "base_uri": "https://localhost:8080/"
        },
        "outputId": "b7cf7c4b-5c5a-48fa-f267-f3b983d0436d"
      },
      "outputs": [
        {
          "metadata": {
            "tags": null
          },
          "name": "stdout",
          "output_type": "stream",
          "text": [
            "0.38342696629213485\n",
            "0.3854748603351955\n"
          ]
        }
      ],
      "source": [
        "from sklearn.model_selection import train_test_split\n",
        "from sklearn.utils.validation import column_or_1d\n",
        "\n",
        "y_train = column_or_1d(y_train)\n",
        "\n",
        "x_data = x_train\n",
        "y_data = y_train\n",
        "rs = [259,351,732,135]\n",
        "\n",
        "\n",
        "x_train, x_test, y_train, y_test = train_test_split(x_train,y_train,test_size = 0.2,random_state = rs[1],stratify = y_train)\n",
        "\n",
        "print(y_train.mean())\n",
        "print(y_test.mean())"
      ]
    },
    {
      "cell_type": "code",
      "execution_count": 26,
      "metadata": {
        "id": "7oRJUj46dYCz"
      },
      "outputs": [],
      "source": [
        "from sklearn.ensemble import AdaBoostClassifier, ExtraTreesClassifier, GradientBoostingClassifier\n",
        "from sklearn.ensemble import RandomForestClassifier, HistGradientBoostingClassifier\n",
        "from sklearn.gaussian_process import GaussianProcessClassifier\n",
        "from sklearn.linear_model import RidgeClassifier\n",
        "from sklearn.neighbors import KNeighborsClassifier, RadiusNeighborsClassifier\n",
        "from sklearn.tree import DecisionTreeClassifier, ExtraTreeClassifier\n",
        "\n",
        "\n",
        "\n",
        "Models = ['AdaBoost','ExtraTrees','GradientBoosting','RandomForest','HistGradientBoosting','GaussianProcessClassifier','RidgeClassifier',\n",
        "          'KNeighborsClassifier','DecisionTreeClassifier','ExtraTreeClassifier']\n",
        "\n",
        "Classifiers = {'AdaBoost' : AdaBoostClassifier(),\n",
        "'ExtraTrees' : ExtraTreesClassifier(),\n",
        "'GradientBoosting' : GradientBoostingClassifier(),\n",
        "'RandomForest' : RandomForestClassifier(),\n",
        "'HistGradientBoosting' : HistGradientBoostingClassifier(),\n",
        "'GaussianProcessClassifier' : GaussianProcessClassifier(),\n",
        "'RidgeClassifier' : RidgeClassifier(),\n",
        "'KNeighborsClassifier' : KNeighborsClassifier(n_neighbors = 3),\n",
        "#'RadiusNeighborsClassifier' : RadiusNeighborsClassifier(radius=5.0),\n",
        "'DecisionTreeClassifier' : DecisionTreeClassifier(),\n",
        "'ExtraTreeClassifier' : ExtraTreeClassifier()}"
      ]
    },
    {
      "cell_type": "code",
      "execution_count": 27,
      "metadata": {
        "id": "HD7a71vz7orb",
        "colab": {
          "base_uri": "https://localhost:8080/",
          "height": 536
        },
        "outputId": "7544d522-01a2-4976-ca10-61d388a4b1d5"
      },
      "outputs": [
        {
          "metadata": {
            "tags": null
          },
          "name": "stdout",
          "output_type": "stream",
          "text": [
            "AdaBoost\n",
            "ExtraTrees\n",
            "GradientBoosting\n",
            "RandomForest\n",
            "HistGradientBoosting\n",
            "GaussianProcessClassifier\n",
            "RidgeClassifier\n",
            "KNeighborsClassifier\n",
            "DecisionTreeClassifier\n",
            "ExtraTreeClassifier\n"
          ]
        },
        {
          "data": {
            "text/html": [
              "\n",
              "  <div id=\"df-285b1aaa-d8de-400c-96d7-62ff74c26cbc\">\n",
              "    <div class=\"colab-df-container\">\n",
              "      <div>\n",
              "<style scoped>\n",
              "    .dataframe tbody tr th:only-of-type {\n",
              "        vertical-align: middle;\n",
              "    }\n",
              "\n",
              "    .dataframe tbody tr th {\n",
              "        vertical-align: top;\n",
              "    }\n",
              "\n",
              "    .dataframe thead th {\n",
              "        text-align: right;\n",
              "    }\n",
              "</style>\n",
              "<table border=\"1\" class=\"dataframe\">\n",
              "  <thead>\n",
              "    <tr style=\"text-align: right;\">\n",
              "      <th></th>\n",
              "      <th>model</th>\n",
              "      <th>train_acc</th>\n",
              "      <th>test_acc</th>\n",
              "      <th>test_f1_score</th>\n",
              "    </tr>\n",
              "  </thead>\n",
              "  <tbody>\n",
              "    <tr>\n",
              "      <th>0</th>\n",
              "      <td>KNeighborsClassifier</td>\n",
              "      <td>0.876404</td>\n",
              "      <td>0.810056</td>\n",
              "      <td>0.734375</td>\n",
              "    </tr>\n",
              "    <tr>\n",
              "      <th>1</th>\n",
              "      <td>ExtraTrees</td>\n",
              "      <td>0.974719</td>\n",
              "      <td>0.804469</td>\n",
              "      <td>0.720000</td>\n",
              "    </tr>\n",
              "    <tr>\n",
              "      <th>2</th>\n",
              "      <td>GradientBoosting</td>\n",
              "      <td>0.907303</td>\n",
              "      <td>0.798883</td>\n",
              "      <td>0.709677</td>\n",
              "    </tr>\n",
              "    <tr>\n",
              "      <th>3</th>\n",
              "      <td>HistGradientBoosting</td>\n",
              "      <td>0.942416</td>\n",
              "      <td>0.798883</td>\n",
              "      <td>0.718750</td>\n",
              "    </tr>\n",
              "    <tr>\n",
              "      <th>4</th>\n",
              "      <td>RandomForest</td>\n",
              "      <td>0.974719</td>\n",
              "      <td>0.793296</td>\n",
              "      <td>0.713178</td>\n",
              "    </tr>\n",
              "    <tr>\n",
              "      <th>5</th>\n",
              "      <td>AdaBoost</td>\n",
              "      <td>0.839888</td>\n",
              "      <td>0.787709</td>\n",
              "      <td>0.683333</td>\n",
              "    </tr>\n",
              "    <tr>\n",
              "      <th>6</th>\n",
              "      <td>DecisionTreeClassifier</td>\n",
              "      <td>0.974719</td>\n",
              "      <td>0.782123</td>\n",
              "      <td>0.706767</td>\n",
              "    </tr>\n",
              "    <tr>\n",
              "      <th>7</th>\n",
              "      <td>GaussianProcessClassifier</td>\n",
              "      <td>0.845506</td>\n",
              "      <td>0.776536</td>\n",
              "      <td>0.672131</td>\n",
              "    </tr>\n",
              "    <tr>\n",
              "      <th>8</th>\n",
              "      <td>RidgeClassifier</td>\n",
              "      <td>0.813202</td>\n",
              "      <td>0.776536</td>\n",
              "      <td>0.682540</td>\n",
              "    </tr>\n",
              "    <tr>\n",
              "      <th>9</th>\n",
              "      <td>ExtraTreeClassifier</td>\n",
              "      <td>0.974719</td>\n",
              "      <td>0.765363</td>\n",
              "      <td>0.686567</td>\n",
              "    </tr>\n",
              "  </tbody>\n",
              "</table>\n",
              "</div>\n",
              "      <button class=\"colab-df-convert\" onclick=\"convertToInteractive('df-285b1aaa-d8de-400c-96d7-62ff74c26cbc')\"\n",
              "              title=\"Convert this dataframe to an interactive table.\"\n",
              "              style=\"display:none;\">\n",
              "        \n",
              "  <svg xmlns=\"http://www.w3.org/2000/svg\" height=\"24px\"viewBox=\"0 0 24 24\"\n",
              "       width=\"24px\">\n",
              "    <path d=\"M0 0h24v24H0V0z\" fill=\"none\"/>\n",
              "    <path d=\"M18.56 5.44l.94 2.06.94-2.06 2.06-.94-2.06-.94-.94-2.06-.94 2.06-2.06.94zm-11 1L8.5 8.5l.94-2.06 2.06-.94-2.06-.94L8.5 2.5l-.94 2.06-2.06.94zm10 10l.94 2.06.94-2.06 2.06-.94-2.06-.94-.94-2.06-.94 2.06-2.06.94z\"/><path d=\"M17.41 7.96l-1.37-1.37c-.4-.4-.92-.59-1.43-.59-.52 0-1.04.2-1.43.59L10.3 9.45l-7.72 7.72c-.78.78-.78 2.05 0 2.83L4 21.41c.39.39.9.59 1.41.59.51 0 1.02-.2 1.41-.59l7.78-7.78 2.81-2.81c.8-.78.8-2.07 0-2.86zM5.41 20L4 18.59l7.72-7.72 1.47 1.35L5.41 20z\"/>\n",
              "  </svg>\n",
              "      </button>\n",
              "      \n",
              "  <style>\n",
              "    .colab-df-container {\n",
              "      display:flex;\n",
              "      flex-wrap:wrap;\n",
              "      gap: 12px;\n",
              "    }\n",
              "\n",
              "    .colab-df-convert {\n",
              "      background-color: #E8F0FE;\n",
              "      border: none;\n",
              "      border-radius: 50%;\n",
              "      cursor: pointer;\n",
              "      display: none;\n",
              "      fill: #1967D2;\n",
              "      height: 32px;\n",
              "      padding: 0 0 0 0;\n",
              "      width: 32px;\n",
              "    }\n",
              "\n",
              "    .colab-df-convert:hover {\n",
              "      background-color: #E2EBFA;\n",
              "      box-shadow: 0px 1px 2px rgba(60, 64, 67, 0.3), 0px 1px 3px 1px rgba(60, 64, 67, 0.15);\n",
              "      fill: #174EA6;\n",
              "    }\n",
              "\n",
              "    [theme=dark] .colab-df-convert {\n",
              "      background-color: #3B4455;\n",
              "      fill: #D2E3FC;\n",
              "    }\n",
              "\n",
              "    [theme=dark] .colab-df-convert:hover {\n",
              "      background-color: #434B5C;\n",
              "      box-shadow: 0px 1px 3px 1px rgba(0, 0, 0, 0.15);\n",
              "      filter: drop-shadow(0px 1px 2px rgba(0, 0, 0, 0.3));\n",
              "      fill: #FFFFFF;\n",
              "    }\n",
              "  </style>\n",
              "\n",
              "      <script>\n",
              "        const buttonEl =\n",
              "          document.querySelector('#df-285b1aaa-d8de-400c-96d7-62ff74c26cbc button.colab-df-convert');\n",
              "        buttonEl.style.display =\n",
              "          google.colab.kernel.accessAllowed ? 'block' : 'none';\n",
              "\n",
              "        async function convertToInteractive(key) {\n",
              "          const element = document.querySelector('#df-285b1aaa-d8de-400c-96d7-62ff74c26cbc');\n",
              "          const dataTable =\n",
              "            await google.colab.kernel.invokeFunction('convertToInteractive',\n",
              "                                                     [key], {});\n",
              "          if (!dataTable) return;\n",
              "\n",
              "          const docLinkHtml = 'Like what you see? Visit the ' +\n",
              "            '<a target=\"_blank\" href=https://colab.research.google.com/notebooks/data_table.ipynb>data table notebook</a>'\n",
              "            + ' to learn more about interactive tables.';\n",
              "          element.innerHTML = '';\n",
              "          dataTable['output_type'] = 'display_data';\n",
              "          await google.colab.output.renderOutput(dataTable, element);\n",
              "          const docLink = document.createElement('div');\n",
              "          docLink.innerHTML = docLinkHtml;\n",
              "          element.appendChild(docLink);\n",
              "        }\n",
              "      </script>\n",
              "    </div>\n",
              "  </div>\n",
              "  "
            ],
            "text/plain": [
              "                       model  train_acc  test_acc  test_f1_score\n",
              "0       KNeighborsClassifier   0.876404  0.810056       0.734375\n",
              "1                 ExtraTrees   0.974719  0.804469       0.720000\n",
              "2           GradientBoosting   0.907303  0.798883       0.709677\n",
              "3       HistGradientBoosting   0.942416  0.798883       0.718750\n",
              "4               RandomForest   0.974719  0.793296       0.713178\n",
              "5                   AdaBoost   0.839888  0.787709       0.683333\n",
              "6     DecisionTreeClassifier   0.974719  0.782123       0.706767\n",
              "7  GaussianProcessClassifier   0.845506  0.776536       0.672131\n",
              "8            RidgeClassifier   0.813202  0.776536       0.682540\n",
              "9        ExtraTreeClassifier   0.974719  0.765363       0.686567"
            ]
          },
          "execution_count": 27,
          "metadata": {},
          "output_type": "execute_result"
        }
      ],
      "source": [
        "\n",
        "from sklearn.metrics import accuracy_score, f1_score\n",
        "\n",
        "res = pd.DataFrame(columns = ['model','train_acc','test_acc','test_f1_score'])\n",
        "\n",
        "for name in Models:\n",
        "  model = Classifiers[name]\n",
        "  model.fit(x_train,y_train)\n",
        "  print(name)\n",
        "\n",
        "  y_predict = model.predict(x_test)\n",
        "\n",
        "  train_acc = accuracy_score(y_train,model.predict(x_train))\n",
        "  test_acc = accuracy_score(y_test,y_predict)\n",
        "  test_f1_score = f1_score(y_test,y_predict)\n",
        "\n",
        "\n",
        "  df = pd.DataFrame(data = [[name,train_acc,test_acc,test_f1_score]],columns =['model','train_acc','test_acc','test_f1_score'])\n",
        "  res = res.append(df)\n",
        "\n",
        "res.sort_values(by='test_acc',ascending=False,ignore_index = True)"
      ]
    },
    {
      "cell_type": "code",
      "execution_count": 28,
      "metadata": {
        "id": "RJHdVZ9ypJEU"
      },
      "outputs": [],
      "source": [
        "from sklearn.model_selection import GridSearchCV, KFold\n",
        "\n",
        "kf = KFold(shuffle = True,random_state= 397)\n"
      ]
    },
    {
      "cell_type": "code",
      "execution_count": 29,
      "metadata": {
        "id": "5atF9JwmozCQ",
        "colab": {
          "base_uri": "https://localhost:8080/",
          "height": 415
        },
        "outputId": "d9b7d829-caf1-486e-ede3-b375c3ac85dc"
      },
      "outputs": [
        {
          "output_type": "stream",
          "name": "stdout",
          "text": [
            "Fitting 5 folds for each of 36 candidates, totalling 180 fits\n",
            "{'l2_regularization': 0, 'learning_rate': 0.01, 'max_depth': 10, 'max_iter': 90, 'min_samples_leaf': 22}\n",
            "0.8125666938673028\n"
          ]
        },
        {
          "output_type": "execute_result",
          "data": {
            "text/plain": [
              "                                               params  mean_test_score\n",
              "4   {'l2_regularization': 0, 'learning_rate': 0.01...         0.812567\n",
              "22  {'l2_regularization': 0.002, 'learning_rate': ...         0.812567\n",
              "16  {'l2_regularization': 0, 'learning_rate': 0.01...         0.811443\n",
              "34  {'l2_regularization': 0.002, 'learning_rate': ...         0.811443\n",
              "28  {'l2_regularization': 0.002, 'learning_rate': ...         0.811443\n",
              "10  {'l2_regularization': 0, 'learning_rate': 0.01...         0.811443\n",
              "35  {'l2_regularization': 0.002, 'learning_rate': ...         0.803584\n",
              "5   {'l2_regularization': 0, 'learning_rate': 0.01...         0.803584\n",
              "29  {'l2_regularization': 0.002, 'learning_rate': ...         0.803584\n",
              "23  {'l2_regularization': 0.002, 'learning_rate': ...         0.803584"
            ],
            "text/html": [
              "\n",
              "  <div id=\"df-4298cc6f-b95b-4541-b94b-689b4e8c2881\">\n",
              "    <div class=\"colab-df-container\">\n",
              "      <div>\n",
              "<style scoped>\n",
              "    .dataframe tbody tr th:only-of-type {\n",
              "        vertical-align: middle;\n",
              "    }\n",
              "\n",
              "    .dataframe tbody tr th {\n",
              "        vertical-align: top;\n",
              "    }\n",
              "\n",
              "    .dataframe thead th {\n",
              "        text-align: right;\n",
              "    }\n",
              "</style>\n",
              "<table border=\"1\" class=\"dataframe\">\n",
              "  <thead>\n",
              "    <tr style=\"text-align: right;\">\n",
              "      <th></th>\n",
              "      <th>params</th>\n",
              "      <th>mean_test_score</th>\n",
              "    </tr>\n",
              "  </thead>\n",
              "  <tbody>\n",
              "    <tr>\n",
              "      <th>4</th>\n",
              "      <td>{'l2_regularization': 0, 'learning_rate': 0.01...</td>\n",
              "      <td>0.812567</td>\n",
              "    </tr>\n",
              "    <tr>\n",
              "      <th>22</th>\n",
              "      <td>{'l2_regularization': 0.002, 'learning_rate': ...</td>\n",
              "      <td>0.812567</td>\n",
              "    </tr>\n",
              "    <tr>\n",
              "      <th>16</th>\n",
              "      <td>{'l2_regularization': 0, 'learning_rate': 0.01...</td>\n",
              "      <td>0.811443</td>\n",
              "    </tr>\n",
              "    <tr>\n",
              "      <th>34</th>\n",
              "      <td>{'l2_regularization': 0.002, 'learning_rate': ...</td>\n",
              "      <td>0.811443</td>\n",
              "    </tr>\n",
              "    <tr>\n",
              "      <th>28</th>\n",
              "      <td>{'l2_regularization': 0.002, 'learning_rate': ...</td>\n",
              "      <td>0.811443</td>\n",
              "    </tr>\n",
              "    <tr>\n",
              "      <th>10</th>\n",
              "      <td>{'l2_regularization': 0, 'learning_rate': 0.01...</td>\n",
              "      <td>0.811443</td>\n",
              "    </tr>\n",
              "    <tr>\n",
              "      <th>35</th>\n",
              "      <td>{'l2_regularization': 0.002, 'learning_rate': ...</td>\n",
              "      <td>0.803584</td>\n",
              "    </tr>\n",
              "    <tr>\n",
              "      <th>5</th>\n",
              "      <td>{'l2_regularization': 0, 'learning_rate': 0.01...</td>\n",
              "      <td>0.803584</td>\n",
              "    </tr>\n",
              "    <tr>\n",
              "      <th>29</th>\n",
              "      <td>{'l2_regularization': 0.002, 'learning_rate': ...</td>\n",
              "      <td>0.803584</td>\n",
              "    </tr>\n",
              "    <tr>\n",
              "      <th>23</th>\n",
              "      <td>{'l2_regularization': 0.002, 'learning_rate': ...</td>\n",
              "      <td>0.803584</td>\n",
              "    </tr>\n",
              "  </tbody>\n",
              "</table>\n",
              "</div>\n",
              "      <button class=\"colab-df-convert\" onclick=\"convertToInteractive('df-4298cc6f-b95b-4541-b94b-689b4e8c2881')\"\n",
              "              title=\"Convert this dataframe to an interactive table.\"\n",
              "              style=\"display:none;\">\n",
              "        \n",
              "  <svg xmlns=\"http://www.w3.org/2000/svg\" height=\"24px\"viewBox=\"0 0 24 24\"\n",
              "       width=\"24px\">\n",
              "    <path d=\"M0 0h24v24H0V0z\" fill=\"none\"/>\n",
              "    <path d=\"M18.56 5.44l.94 2.06.94-2.06 2.06-.94-2.06-.94-.94-2.06-.94 2.06-2.06.94zm-11 1L8.5 8.5l.94-2.06 2.06-.94-2.06-.94L8.5 2.5l-.94 2.06-2.06.94zm10 10l.94 2.06.94-2.06 2.06-.94-2.06-.94-.94-2.06-.94 2.06-2.06.94z\"/><path d=\"M17.41 7.96l-1.37-1.37c-.4-.4-.92-.59-1.43-.59-.52 0-1.04.2-1.43.59L10.3 9.45l-7.72 7.72c-.78.78-.78 2.05 0 2.83L4 21.41c.39.39.9.59 1.41.59.51 0 1.02-.2 1.41-.59l7.78-7.78 2.81-2.81c.8-.78.8-2.07 0-2.86zM5.41 20L4 18.59l7.72-7.72 1.47 1.35L5.41 20z\"/>\n",
              "  </svg>\n",
              "      </button>\n",
              "      \n",
              "  <style>\n",
              "    .colab-df-container {\n",
              "      display:flex;\n",
              "      flex-wrap:wrap;\n",
              "      gap: 12px;\n",
              "    }\n",
              "\n",
              "    .colab-df-convert {\n",
              "      background-color: #E8F0FE;\n",
              "      border: none;\n",
              "      border-radius: 50%;\n",
              "      cursor: pointer;\n",
              "      display: none;\n",
              "      fill: #1967D2;\n",
              "      height: 32px;\n",
              "      padding: 0 0 0 0;\n",
              "      width: 32px;\n",
              "    }\n",
              "\n",
              "    .colab-df-convert:hover {\n",
              "      background-color: #E2EBFA;\n",
              "      box-shadow: 0px 1px 2px rgba(60, 64, 67, 0.3), 0px 1px 3px 1px rgba(60, 64, 67, 0.15);\n",
              "      fill: #174EA6;\n",
              "    }\n",
              "\n",
              "    [theme=dark] .colab-df-convert {\n",
              "      background-color: #3B4455;\n",
              "      fill: #D2E3FC;\n",
              "    }\n",
              "\n",
              "    [theme=dark] .colab-df-convert:hover {\n",
              "      background-color: #434B5C;\n",
              "      box-shadow: 0px 1px 3px 1px rgba(0, 0, 0, 0.15);\n",
              "      filter: drop-shadow(0px 1px 2px rgba(0, 0, 0, 0.3));\n",
              "      fill: #FFFFFF;\n",
              "    }\n",
              "  </style>\n",
              "\n",
              "      <script>\n",
              "        const buttonEl =\n",
              "          document.querySelector('#df-4298cc6f-b95b-4541-b94b-689b4e8c2881 button.colab-df-convert');\n",
              "        buttonEl.style.display =\n",
              "          google.colab.kernel.accessAllowed ? 'block' : 'none';\n",
              "\n",
              "        async function convertToInteractive(key) {\n",
              "          const element = document.querySelector('#df-4298cc6f-b95b-4541-b94b-689b4e8c2881');\n",
              "          const dataTable =\n",
              "            await google.colab.kernel.invokeFunction('convertToInteractive',\n",
              "                                                     [key], {});\n",
              "          if (!dataTable) return;\n",
              "\n",
              "          const docLinkHtml = 'Like what you see? Visit the ' +\n",
              "            '<a target=\"_blank\" href=https://colab.research.google.com/notebooks/data_table.ipynb>data table notebook</a>'\n",
              "            + ' to learn more about interactive tables.';\n",
              "          element.innerHTML = '';\n",
              "          dataTable['output_type'] = 'display_data';\n",
              "          await google.colab.output.renderOutput(dataTable, element);\n",
              "          const docLink = document.createElement('div');\n",
              "          docLink.innerHTML = docLinkHtml;\n",
              "          element.appendChild(docLink);\n",
              "        }\n",
              "      </script>\n",
              "    </div>\n",
              "  </div>\n",
              "  "
            ]
          },
          "metadata": {},
          "execution_count": 29
        }
      ],
      "source": [
        "#HistGradientBoosting\n",
        "\n",
        "\n",
        "HGB_model = HistGradientBoostingClassifier()\n",
        "HGB_params = {'learning_rate': [0.01],'max_depth': [10,11,12],'min_samples_leaf': [22,24],'max_iter': [70,80,90],'l2_regularization': [0,0.002]}\n",
        "\n",
        "HGB_grid = GridSearchCV(estimator = HGB_model,param_grid = HGB_params, cv = kf, n_jobs=-1,scoring='accuracy',verbose = 1)\n",
        "HGB_grid.fit(x_data,y_data)\n",
        "\n",
        "print(HGB_grid.best_params_)\n",
        "print(HGB_grid.best_score_)\n",
        "HGB_res = pd.DataFrame(HGB_grid.cv_results_)\n",
        "\n",
        "HGB_res[['params','mean_test_score']].sort_values(by = ['mean_test_score'],ascending = False).head(10)"
      ]
    },
    {
      "cell_type": "code",
      "execution_count": null,
      "metadata": {
        "id": "SHYXNl-OeDf9"
      },
      "outputs": [],
      "source": [
        "#RandomForest\n",
        "\n",
        "RF_model = RandomForestClassifier()\n",
        "RF_params = {'criterion':['entropy'], 'n_estimators':[110,120,130], 'max_depth':[12,14,16],'max_features':['log2'],'max_leaf_nodes':[40,60,80]}\n",
        "\n",
        "RF_grid = GridSearchCV(estimator = RF_model,param_grid = RF_params, cv = kf,n_jobs = -1, scoring = 'accuracy',verbose = 1)\n",
        "RF_grid.fit(x_data,y_data)\n",
        "\n",
        "print(RF_grid.best_params_)\n",
        "print(RF_grid.best_score_)\n",
        "RF_res = pd.DataFrame(RF_grid.cv_results_)\n",
        "\n",
        "RF_res[['params','mean_test_score']].sort_values(by=['mean_test_score'],ascending=False).head(10)"
      ]
    },
    {
      "cell_type": "code",
      "execution_count": null,
      "metadata": {
        "id": "-nt4LDiPWpJa"
      },
      "outputs": [],
      "source": [
        "#GradientBoosting\n",
        "\n",
        "GB_model = GradientBoostingClassifier()\n",
        "GB_params = {'learning_rate' : [0.01],'n_estimators' : [100,110,120],'subsample':[0.8,1.0],'max_depth' : [3,4,5,6],'max_features' : ['log2']}\n",
        "\n",
        "GB_grid = GridSearchCV(estimator = GB_model, param_grid = GB_params, cv=kf, n_jobs=-1, scoring = 'accuracy', verbose = 1)\n",
        "GB_grid.fit(x_data,y_data)\n",
        "\n",
        "print(GB_grid.best_params_)\n",
        "print(GB_grid.best_score_)\n",
        "GB_res = pd.DataFrame(GB_grid.cv_results_)\n",
        "\n",
        "GB_res[['params','mean_test_score']].sort_values(by = ['mean_test_score'],ascending=False).head(10)"
      ]
    },
    {
      "cell_type": "code",
      "execution_count": null,
      "metadata": {
        "id": "H6_zBRyTAKXy"
      },
      "outputs": [],
      "source": [
        "#test_data\n",
        "\n",
        "test_data.Fare.replace({np.nan:0},inplace = True)#fare nan\n",
        "\n",
        "res_data = pd.DataFrame(columns = ['PassengerID','Survived'])\n",
        "x_res = test_data[use_columns]\n",
        "print(x_res.isna().any())\n",
        "\n",
        "final_model = RandomForestClassifier(\n",
        "    criterion= 'entropy', max_depth= 14, max_features= 'log2', max_leaf_nodes= 60, n_estimators= 120\n",
        ")\n",
        "\n",
        "final_model.fit(x_data,y_data)\n",
        "test_data['Survived'] = final_model.predict(x_res)\n",
        "print(test_data.Survived.mean())\n",
        "print(test_data.tail(5))\n",
        "\n",
        "result = test_data[['PassengerId','Survived']]\n",
        "result.to_csv(os.path.join(root_dir,'predictions.csv'),index = False)"
      ]
    },
    {
      "cell_type": "code",
      "source": [
        "importance = pd.Series(final_model.feature_importances_,x_data.columns).sort_values(ascending = False)\n",
        "plt.bar(importance.index,importance.values)"
      ],
      "metadata": {
        "id": "osF0LH1cDIk4"
      },
      "execution_count": null,
      "outputs": []
    },
    {
      "cell_type": "code",
      "execution_count": 34,
      "metadata": {
        "id": "Ac98uJS777Z1",
        "colab": {
          "base_uri": "https://localhost:8080/"
        },
        "outputId": "761ca310-a66f-4f04-eef8-6e64828bad8e"
      },
      "outputs": [
        {
          "output_type": "stream",
          "name": "stdout",
          "text": [
            "     PassengerId  Survived\n",
            "0            892         0\n",
            "1            893         0\n",
            "2            894         0\n",
            "3            895         0\n",
            "4            896         0\n",
            "..           ...       ...\n",
            "413         1305         0\n",
            "414         1306         1\n",
            "415         1307         0\n",
            "416         1308         0\n",
            "417         1309         0\n",
            "\n",
            "[418 rows x 2 columns]\n",
            "     PassengerId  Survived\n",
            "0            892         0\n",
            "1            893         0\n",
            "2            894         0\n",
            "3            895         0\n",
            "4            896         0\n",
            "..           ...       ...\n",
            "413         1305         0\n",
            "414         1306         1\n",
            "415         1307         0\n",
            "416         1308         0\n",
            "417         1309         0\n",
            "\n",
            "[418 rows x 2 columns]\n"
          ]
        }
      ],
      "source": [
        "predic = pd.read_csv(os.path.join(root_dir,'predictions.csv'))\n",
        "print(predic)"
      ]
    }
  ],
  "metadata": {
    "colab": {
      "provenance": [],
      "mount_file_id": "1fQi6Qp0iymGc0h0p3IO6rQqHP9Uqp1EQ",
      "authorship_tag": "ABX9TyPU1AROyLKlj2a+17/+OORq"
    },
    "gpuClass": "standard",
    "kernelspec": {
      "display_name": "Python 3",
      "name": "python3"
    },
    "language_info": {
      "name": "python"
    }
  },
  "nbformat": 4,
  "nbformat_minor": 0
}