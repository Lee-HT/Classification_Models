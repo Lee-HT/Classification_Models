{
  "nbformat": 4,
  "nbformat_minor": 0,
  "metadata": {
    "colab": {
      "name": "DrivingBehavior_practice.ipynb",
      "provenance": [],
      "collapsed_sections": [],
      "authorship_tag": "ABX9TyMGpWniFbMcI0xHAZTy4itc"
    },
    "kernelspec": {
      "name": "python3",
      "display_name": "Python 3"
    },
    "language_info": {
      "name": "python"
    },
    "accelerator": "GPU",
    "gpuClass": "standard"
  },
  "cells": [
    {
      "cell_type": "code",
      "execution_count": null,
      "metadata": {
        "id": "R3Riw0rcaGsX"
      },
      "outputs": [],
      "source": [
        "import tensorflow as tf\n",
        "import numpy as np"
      ]
    },
    {
      "cell_type": "code",
      "source": [
        "import pandas as pd\n",
        "import os\n",
        "import shutil\n",
        "import zipfile\n",
        "\n",
        "Root_dir = '/content'\n",
        "Data_dir = os.path.join(Root_dir,'driving')\n",
        "\n",
        "if os.path.exists(Data_dir):\n",
        "  shutil.rmtree(Data_dir)\n",
        "\n",
        "with zipfile.ZipFile(os.path.join(Root_dir,'driving.zip'),'r') as file:\n",
        "  file.extractall(Data_dir)\n",
        "\n",
        "train_data = pd.read_csv(os.path.join(Data_dir,'train_motion_data.csv'))\n",
        "test_data = pd.read_csv(os.path.join(Data_dir,'test_motion_data.csv'))\n",
        "data = pd.concat([train_data,test_data],ignore_index=True)"
      ],
      "metadata": {
        "id": "vrs9fSd4al6v"
      },
      "execution_count": null,
      "outputs": []
    },
    {
      "cell_type": "code",
      "source": [
        "drop_columns = ['Timestamp']\n",
        "# data = data.drop(drop_columns,axis='columns')\n",
        "data.info()"
      ],
      "metadata": {
        "colab": {
          "base_uri": "https://localhost:8080/"
        },
        "id": "pSKLSMnid1Vk",
        "outputId": "72c89f40-667b-42e6-98d9-55e827150b37"
      },
      "execution_count": null,
      "outputs": [
        {
          "output_type": "stream",
          "name": "stdout",
          "text": [
            "<class 'pandas.core.frame.DataFrame'>\n",
            "RangeIndex: 6728 entries, 0 to 6727\n",
            "Data columns (total 8 columns):\n",
            " #   Column     Non-Null Count  Dtype  \n",
            "---  ------     --------------  -----  \n",
            " 0   AccX       6728 non-null   float64\n",
            " 1   AccY       6728 non-null   float64\n",
            " 2   AccZ       6728 non-null   float64\n",
            " 3   GyroX      6728 non-null   float64\n",
            " 4   GyroY      6728 non-null   float64\n",
            " 5   GyroZ      6728 non-null   float64\n",
            " 6   Class      6728 non-null   object \n",
            " 7   Timestamp  6728 non-null   int64  \n",
            "dtypes: float64(6), int64(1), object(1)\n",
            "memory usage: 420.6+ KB\n"
          ]
        }
      ]
    },
    {
      "cell_type": "code",
      "source": [
        "from sklearn.model_selection import train_test_split\n",
        "from sklearn.preprocessing import MinMaxScaler, LabelEncoder\n",
        "import matplotlib.pyplot as plt\n",
        "import seaborn as sns\n",
        "\n",
        "\n",
        "x = data.drop('Class',axis='columns')\n",
        "y = data['Class']\n",
        "\n",
        "scaler = MinMaxScaler()\n",
        "label = LabelEncoder()\n",
        "x = scaler.fit_transform(x)\n",
        "y = label.fit_transform(y)\n",
        "\n",
        "# class_name = {}\n",
        "# class_count = y.unique()\n",
        "# for i,c in enumerate(class_count):\n",
        "#   class_name[c] = i\n",
        "# keys = class_name.keys()\n",
        "# values = class_name.values()\n",
        "# print(class_name)\n",
        "\n",
        "# y = y.replace(keys,values)\n",
        "# print(y)\n",
        "\n",
        "corr = pd.concat([pd.DataFrame(x),pd.DataFrame(y)],axis=1,ignore_index=True)\n",
        "print(corr.info())\n",
        "plt.figure(figsize = (10,8))\n",
        "sns.heatmap(corr.corr(),annot=True,fmt='.1f',cmap='YlGnBu')\n",
        "\n",
        "x_train,x_test,y_train,y_test = train_test_split(x,y,test_size=0.3,random_state=789)"
      ],
      "metadata": {
        "id": "fwqsCE3HfE2o",
        "colab": {
          "base_uri": "https://localhost:8080/",
          "height": 764
        },
        "outputId": "0bea9fbe-0cb0-44fc-b439-c11df76878f6"
      },
      "execution_count": null,
      "outputs": [
        {
          "output_type": "stream",
          "name": "stdout",
          "text": [
            "<class 'pandas.core.frame.DataFrame'>\n",
            "RangeIndex: 6728 entries, 0 to 6727\n",
            "Data columns (total 8 columns):\n",
            " #   Column  Non-Null Count  Dtype  \n",
            "---  ------  --------------  -----  \n",
            " 0   0       6728 non-null   float64\n",
            " 1   1       6728 non-null   float64\n",
            " 2   2       6728 non-null   float64\n",
            " 3   3       6728 non-null   float64\n",
            " 4   4       6728 non-null   float64\n",
            " 5   5       6728 non-null   float64\n",
            " 6   6       6728 non-null   float64\n",
            " 7   7       6728 non-null   int64  \n",
            "dtypes: float64(7), int64(1)\n",
            "memory usage: 420.6 KB\n",
            "None\n"
          ]
        },
        {
          "output_type": "display_data",
          "data": {
            "text/plain": [
              "<Figure size 720x576 with 2 Axes>"
            ],
            "image/png": "[encoded data removed]"
          },
          "metadata": {
            "needs_background": "light"
          }
        }
      ]
    },
    {
      "cell_type": "code",
      "source": [
        "from sklearn.ensemble import AdaBoostClassifier, ExtraTreesClassifier, GradientBoostingClassifier\n",
        "from sklearn.ensemble import RandomForestClassifier, HistGradientBoostingClassifier\n",
        "from sklearn.gaussian_process import GaussianProcessClassifier\n",
        "from sklearn.linear_model import RidgeClassifier\n",
        "from sklearn.neighbors import KNeighborsClassifier, RadiusNeighborsClassifier\n",
        "from sklearn.tree import DecisionTreeClassifier, ExtraTreeClassifier\n",
        "\n",
        "\n",
        "\n",
        "Models = ['AdaBoost','ExtraTrees','GradientBoosting','RandomForest','HistGradientBoosting','GaussianProcessClassifier','RidgeClassifier',\n",
        "          'KNeighborsClassifier','RadiusNeighborsClassifier','DecisionTreeClassifier','ExtraTreeClassifier']\n",
        "\n",
        "Regressors = {'AdaBoost' : AdaBoostClassifier(),\n",
        "'ExtraTrees' : ExtraTreesClassifier(),\n",
        "'GradientBoosting' : GradientBoostingClassifier(),\n",
        "'RandomForest' : RandomForestClassifier(),\n",
        "'HistGradientBoosting' : HistGradientBoostingClassifier(),\n",
        "'GaussianProcessClassifier' : GaussianProcessClassifier(),\n",
        "'RidgeClassifier' : RidgeClassifier(),\n",
        "'KNeighborsClassifier' : KNeighborsClassifier(n_neighbors = 3),\n",
        "'RadiusNeighborsClassifier' : RadiusNeighborsClassifier(),\n",
        "'DecisionTreeClassifier' : DecisionTreeClassifier(),\n",
        "'ExtraTreeClassifier' : ExtraTreeClassifier()}"
      ],
      "metadata": {
        "id": "gsNpPIhLyLht"
      },
      "execution_count": null,
      "outputs": []
    },
    {
      "cell_type": "code",
      "source": [
        "from sklearn.metrics import accuracy_score\n",
        "\n",
        "res = pd.DataFrame(columns=['model','train_acc','test_acc'])\n",
        "feature_importance = pd.DataFrame()\n",
        "\n",
        "for i in Models:\n",
        "  name = i\n",
        "  model = Regressors[i]\n",
        "\n",
        "  model.fit(x_train,y_train)\n",
        "\n",
        "  train_acc = accuracy_score(y_train,model.predict(x_train))\n",
        "  test_acc = accuracy_score(y_test,model.predict(x_test))\n",
        "\n",
        "  df = pd.DataFrame(data = [[name,train_acc,test_acc]],columns = ['model','train_acc','test_acc'])\n",
        "  res = res.append(df,ignore_index=True)\n",
        "\n",
        "res.sort_values(by='test_acc',ascending = False)"
      ],
      "metadata": {
        "colab": {
          "base_uri": "https://localhost:8080/",
          "height": 394
        },
        "id": "WxNddo6VlN71",
        "outputId": "ac59fa84-e119-4289-e9b3-e6c0177685f6"
      },
      "execution_count": null,
      "outputs": [
        {
          "output_type": "execute_result",
          "data": {
            "text/plain": [
              "                        model  train_acc  test_acc\n",
              "2            GradientBoosting   1.000000  1.000000\n",
              "9      DecisionTreeClassifier   1.000000  1.000000\n",
              "1                  ExtraTrees   1.000000  0.995047\n",
              "3                RandomForest   1.000000  0.994552\n",
              "4        HistGradientBoosting   1.000000  0.994056\n",
              "10        ExtraTreeClassifier   1.000000  0.847945\n",
              "0                    AdaBoost   0.812274  0.807330\n",
              "5   GaussianProcessClassifier   0.429815  0.409609\n",
              "6             RidgeClassifier   0.425143  0.407132\n",
              "8   RadiusNeighborsClassifier   0.390953  0.377910\n",
              "7        KNeighborsClassifier   0.667445  0.374938"
            ],
            "text/html": [
              "\n",
              "  <div id=\"df-8f0c0700-9da9-4d34-afa6-c0f23abc8dd4\">\n",
              "    <div class=\"colab-df-container\">\n",
              "      <div>\n",
              "<style scoped>\n",
              "    .dataframe tbody tr th:only-of-type {\n",
              "        vertical-align: middle;\n",
              "    }\n",
              "\n",
              "    .dataframe tbody tr th {\n",
              "        vertical-align: top;\n",
              "    }\n",
              "\n",
              "    .dataframe thead th {\n",
              "        text-align: right;\n",
              "    }\n",
              "</style>\n",
              "<table border=\"1\" class=\"dataframe\">\n",
              "  <thead>\n",
              "    <tr style=\"text-align: right;\">\n",
              "      <th></th>\n",
              "      <th>model</th>\n",
              "      <th>train_acc</th>\n",
              "      <th>test_acc</th>\n",
              "    </tr>\n",
              "  </thead>\n",
              "  <tbody>\n",
              "    <tr>\n",
              "      <th>2</th>\n",
              "      <td>GradientBoosting</td>\n",
              "      <td>1.000000</td>\n",
              "      <td>1.000000</td>\n",
              "    </tr>\n",
              "    <tr>\n",
              "      <th>9</th>\n",
              "      <td>DecisionTreeClassifier</td>\n",
              "      <td>1.000000</td>\n",
              "      <td>1.000000</td>\n",
              "    </tr>\n",
              "    <tr>\n",
              "      <th>1</th>\n",
              "      <td>ExtraTrees</td>\n",
              "      <td>1.000000</td>\n",
              "      <td>0.995047</td>\n",
              "    </tr>\n",
              "    <tr>\n",
              "      <th>3</th>\n",
              "      <td>RandomForest</td>\n",
              "      <td>1.000000</td>\n",
              "      <td>0.994552</td>\n",
              "    </tr>\n",
              "    <tr>\n",
              "      <th>4</th>\n",
              "      <td>HistGradientBoosting</td>\n",
              "      <td>1.000000</td>\n",
              "      <td>0.994056</td>\n",
              "    </tr>\n",
              "    <tr>\n",
              "      <th>10</th>\n",
              "      <td>ExtraTreeClassifier</td>\n",
              "      <td>1.000000</td>\n",
              "      <td>0.847945</td>\n",
              "    </tr>\n",
              "    <tr>\n",
              "      <th>0</th>\n",
              "      <td>AdaBoost</td>\n",
              "      <td>0.812274</td>\n",
              "      <td>0.807330</td>\n",
              "    </tr>\n",
              "    <tr>\n",
              "      <th>5</th>\n",
              "      <td>GaussianProcessClassifier</td>\n",
              "      <td>0.429815</td>\n",
              "      <td>0.409609</td>\n",
              "    </tr>\n",
              "    <tr>\n",
              "      <th>6</th>\n",
              "      <td>RidgeClassifier</td>\n",
              "      <td>0.425143</td>\n",
              "      <td>0.407132</td>\n",
              "    </tr>\n",
              "    <tr>\n",
              "      <th>8</th>\n",
              "      <td>RadiusNeighborsClassifier</td>\n",
              "      <td>0.390953</td>\n",
              "      <td>0.377910</td>\n",
              "    </tr>\n",
              "    <tr>\n",
              "      <th>7</th>\n",
              "      <td>KNeighborsClassifier</td>\n",
              "      <td>0.667445</td>\n",
              "      <td>0.374938</td>\n",
              "    </tr>\n",
              "  </tbody>\n",
              "</table>\n",
              "</div>\n",
              "      <button class=\"colab-df-convert\" onclick=\"convertToInteractive('df-8f0c0700-9da9-4d34-afa6-c0f23abc8dd4')\"\n",
              "              title=\"Convert this dataframe to an interactive table.\"\n",
              "              style=\"display:none;\">\n",
              "        \n",
              "  <svg xmlns=\"http://www.w3.org/2000/svg\" height=\"24px\"viewBox=\"0 0 24 24\"\n",
              "       width=\"24px\">\n",
              "    <path d=\"M0 0h24v24H0V0z\" fill=\"none\"/>\n",
              "    <path d=\"M18.56 5.44l.94 2.06.94-2.06 2.06-.94-2.06-.94-.94-2.06-.94 2.06-2.06.94zm-11 1L8.5 8.5l.94-2.06 2.06-.94-2.06-.94L8.5 2.5l-.94 2.06-2.06.94zm10 10l.94 2.06.94-2.06 2.06-.94-2.06-.94-.94-2.06-.94 2.06-2.06.94z\"/><path d=\"M17.41 7.96l-1.37-1.37c-.4-.4-.92-.59-1.43-.59-.52 0-1.04.2-1.43.59L10.3 9.45l-7.72 7.72c-.78.78-.78 2.05 0 2.83L4 21.41c.39.39.9.59 1.41.59.51 0 1.02-.2 1.41-.59l7.78-7.78 2.81-2.81c.8-.78.8-2.07 0-2.86zM5.41 20L4 18.59l7.72-7.72 1.47 1.35L5.41 20z\"/>\n",
              "  </svg>\n",
              "      </button>\n",
              "      \n",
              "  <style>\n",
              "    .colab-df-container {\n",
              "      display:flex;\n",
              "      flex-wrap:wrap;\n",
              "      gap: 12px;\n",
              "    }\n",
              "\n",
              "    .colab-df-convert {\n",
              "      background-color: #E8F0FE;\n",
              "      border: none;\n",
              "      border-radius: 50%;\n",
              "      cursor: pointer;\n",
              "      display: none;\n",
              "      fill: #1967D2;\n",
              "      height: 32px;\n",
              "      padding: 0 0 0 0;\n",
              "      width: 32px;\n",
              "    }\n",
              "\n",
              "    .colab-df-convert:hover {\n",
              "      background-color: #E2EBFA;\n",
              "      box-shadow: 0px 1px 2px rgba(60, 64, 67, 0.3), 0px 1px 3px 1px rgba(60, 64, 67, 0.15);\n",
              "      fill: #174EA6;\n",
              "    }\n",
              "\n",
              "    [theme=dark] .colab-df-convert {\n",
              "      background-color: #3B4455;\n",
              "      fill: #D2E3FC;\n",
              "    }\n",
              "\n",
              "    [theme=dark] .colab-df-convert:hover {\n",
              "      background-color: #434B5C;\n",
              "      box-shadow: 0px 1px 3px 1px rgba(0, 0, 0, 0.15);\n",
              "      filter: drop-shadow(0px 1px 2px rgba(0, 0, 0, 0.3));\n",
              "      fill: #FFFFFF;\n",
              "    }\n",
              "  </style>\n",
              "\n",
              "      <script>\n",
              "        const buttonEl =\n",
              "          document.querySelector('#df-8f0c0700-9da9-4d34-afa6-c0f23abc8dd4 button.colab-df-convert');\n",
              "        buttonEl.style.display =\n",
              "          google.colab.kernel.accessAllowed ? 'block' : 'none';\n",
              "\n",
              "        async function convertToInteractive(key) {\n",
              "          const element = document.querySelector('#df-8f0c0700-9da9-4d34-afa6-c0f23abc8dd4');\n",
              "          const dataTable =\n",
              "            await google.colab.kernel.invokeFunction('convertToInteractive',\n",
              "                                                     [key], {});\n",
              "          if (!dataTable) return;\n",
              "\n",
              "          const docLinkHtml = 'Like what you see? Visit the ' +\n",
              "            '<a target=\"_blank\" href=https://colab.research.google.com/notebooks/data_table.ipynb>data table notebook</a>'\n",
              "            + ' to learn more about interactive tables.';\n",
              "          element.innerHTML = '';\n",
              "          dataTable['output_type'] = 'display_data';\n",
              "          await google.colab.output.renderOutput(dataTable, element);\n",
              "          const docLink = document.createElement('div');\n",
              "          docLink.innerHTML = docLinkHtml;\n",
              "          element.appendChild(docLink);\n",
              "        }\n",
              "      </script>\n",
              "    </div>\n",
              "  </div>\n",
              "  "
            ]
          },
          "metadata": {},
          "execution_count": 6
        }
      ]
    },
    {
      "cell_type": "code",
      "source": [
        "from sklearn.model_selection import GridSearchCV, KFold\n",
        "kf = KFold(shuffle = True,random_state = 78)\n",
        "GB_model = GradientBoostingClassifier(random_state = 67)\n",
        "GB_param = {'learning_rate' : [0.1,0.2],'n_estimators' : [80,100,120],'max_depth' : [3,5,7]}\n",
        "\n",
        "GB_grid = GridSearchCV(estimator = GB_model,param_grid=GB_param,cv = kf,n_jobs = -1,scoring='accuracy')\n",
        "GB_grid.fit(x_train,y_train)\n",
        "\n",
        "print(GB_grid.best_params_)\n",
        "print(GB_grid.best_score_)\n",
        "cv_res = pd.DataFrame(GB_grid.cv_results_)\n",
        "print(cv_res[['params','mean_test_score']].sort_values(by=['mean_test_score'],ascending=True).head(10))"
      ],
      "metadata": {
        "id": "NAt6suQRZbm3",
        "colab": {
          "base_uri": "https://localhost:8080/"
        },
        "outputId": "1992241b-6270-45ee-dbfd-7627df154f33"
      },
      "execution_count": null,
      "outputs": [
        {
          "output_type": "stream",
          "name": "stdout",
          "text": [
            "{'learning_rate': 0.1, 'max_depth': 3, 'n_estimators': 80}\n",
            "1.0\n",
            "                                               params  mean_test_score\n",
            "0   {'learning_rate': 0.1, 'max_depth': 3, 'n_esti...              1.0\n",
            "15  {'learning_rate': 0.2, 'max_depth': 7, 'n_esti...              1.0\n",
            "14  {'learning_rate': 0.2, 'max_depth': 5, 'n_esti...              1.0\n",
            "13  {'learning_rate': 0.2, 'max_depth': 5, 'n_esti...              1.0\n",
            "12  {'learning_rate': 0.2, 'max_depth': 5, 'n_esti...              1.0\n",
            "11  {'learning_rate': 0.2, 'max_depth': 3, 'n_esti...              1.0\n",
            "10  {'learning_rate': 0.2, 'max_depth': 3, 'n_esti...              1.0\n",
            "9   {'learning_rate': 0.2, 'max_depth': 3, 'n_esti...              1.0\n",
            "8   {'learning_rate': 0.1, 'max_depth': 7, 'n_esti...              1.0\n",
            "7   {'learning_rate': 0.1, 'max_depth': 7, 'n_esti...              1.0\n"
          ]
        }
      ]
    },
    {
      "cell_type": "code",
      "source": [
        "DT_model = DecisionTreeClassifier(random_state = 89)\n",
        "DT_param = {'max_depth' : [5,10,20],'min_samples_split' : [2,3,4], 'min_samples_leaf' : [1,2,3]}\n",
        "\n",
        "DT_grid = GridSearchCV(estimator = DT_model,param_grid=DT_param,cv=kf,n_jobs=-1,scoring='accuracy')\n",
        "DT_grid.fit(x_train,y_train)\n",
        "\n",
        "print(DT_grid.best_params_)\n",
        "print(DT_grid.best_score_)\n",
        "cv_res = pd.DataFrame(DT_grid.cv_results_)\n",
        "print(cv_res[['params','mean_test_score']].sort_values(by=['mean_test_score'],ascending=False).head(10))"
      ],
      "metadata": {
        "id": "Tfd_dWE2Ypwi",
        "colab": {
          "base_uri": "https://localhost:8080/"
        },
        "outputId": "79d88c9e-4c68-4f99-bb74-928a63556cbf"
      },
      "execution_count": null,
      "outputs": [
        {
          "output_type": "stream",
          "name": "stdout",
          "text": [
            "{'max_depth': 5, 'min_samples_leaf': 1, 'min_samples_split': 2}\n",
            "1.0\n",
            "                                               params  mean_test_score\n",
            "0   {'max_depth': 5, 'min_samples_leaf': 1, 'min_s...              1.0\n",
            "14  {'max_depth': 10, 'min_samples_leaf': 2, 'min_...              1.0\n",
            "25  {'max_depth': 20, 'min_samples_leaf': 3, 'min_...              1.0\n",
            "24  {'max_depth': 20, 'min_samples_leaf': 3, 'min_...              1.0\n",
            "23  {'max_depth': 20, 'min_samples_leaf': 2, 'min_...              1.0\n",
            "22  {'max_depth': 20, 'min_samples_leaf': 2, 'min_...              1.0\n",
            "21  {'max_depth': 20, 'min_samples_leaf': 2, 'min_...              1.0\n",
            "20  {'max_depth': 20, 'min_samples_leaf': 1, 'min_...              1.0\n",
            "19  {'max_depth': 20, 'min_samples_leaf': 1, 'min_...              1.0\n",
            "18  {'max_depth': 20, 'min_samples_leaf': 1, 'min_...              1.0\n"
          ]
        }
      ]
    },
    {
      "cell_type": "code",
      "source": [
        "RF_model = RandomForestClassifier(random_state = 78)\n",
        "RF_params = {'n_estimators' : [120,140,160], 'max_depth' : [20,30,40,None] , 'min_samples_leaf' : [1,5,8]}\n",
        "\n",
        "RF_grid = GridSearchCV(estimator = RF_model , param_grid = RF_params , cv = kf , n_jobs = -1, scoring = 'accuracy')\n",
        "RF_grid.fit(x_train,y_train)\n",
        "print(RF_grid.best_params_)\n",
        "print(RF_grid.best_score_)\n",
        "cv_res = pd.DataFrame(RF_grid.cv_results_)\n",
        "print(cv_res[['params','mean_test_score']].sort_values(['mean_test_score'],ascending=False).head(10))"
      ],
      "metadata": {
        "id": "xjODXzxB-sbq",
        "colab": {
          "base_uri": "https://localhost:8080/"
        },
        "outputId": "bcb933cd-e59f-40e1-cf4d-e51e60b42a3e"
      },
      "execution_count": null,
      "outputs": [
        {
          "output_type": "stream",
          "name": "stdout",
          "text": [
            "{'max_depth': 20, 'min_samples_leaf': 1, 'n_estimators': 140}\n",
            "0.9932043654151184\n",
            "                                               params  mean_test_score\n",
            "1   {'max_depth': 20, 'min_samples_leaf': 1, 'n_es...         0.993204\n",
            "18  {'max_depth': 40, 'min_samples_leaf': 1, 'n_es...         0.992992\n",
            "9   {'max_depth': 30, 'min_samples_leaf': 1, 'n_es...         0.992992\n",
            "27  {'max_depth': None, 'min_samples_leaf': 1, 'n_...         0.992992\n",
            "2   {'max_depth': 20, 'min_samples_leaf': 1, 'n_es...         0.992780\n",
            "28  {'max_depth': None, 'min_samples_leaf': 1, 'n_...         0.992780\n",
            "19  {'max_depth': 40, 'min_samples_leaf': 1, 'n_es...         0.992780\n",
            "10  {'max_depth': 30, 'min_samples_leaf': 1, 'n_es...         0.992780\n",
            "0   {'max_depth': 20, 'min_samples_leaf': 1, 'n_es...         0.992779\n",
            "20  {'max_depth': 40, 'min_samples_leaf': 1, 'n_es...         0.992567\n"
          ]
        }
      ]
    }
  ]
}